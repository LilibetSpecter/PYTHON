{
 "cells": [
  {
   "cell_type": "markdown",
   "id": "98d0f7a7-e7f9-4176-a475-816e7cf0307b",
   "metadata": {},
   "source": [
    "## Dosya islemleri"
   ]
  },
  {
   "cell_type": "code",
   "execution_count": 1,
   "id": "0643119e-919e-4f0d-86a3-863ac53a4f04",
   "metadata": {},
   "outputs": [
    {
     "name": "stdout",
     "output_type": "stream",
     "text": [
      "/Users/merthan/Desktop/IT_Course/Python/Advanced_Python/files\n"
     ]
    }
   ],
   "source": [
    "import os\n",
    "print(os.getcwd())"
   ]
  },
  {
   "cell_type": "code",
   "execution_count": 2,
   "id": "2f1d48c5-45e2-4e66-b05c-9484af8cf074",
   "metadata": {},
   "outputs": [
    {
     "ename": "FileNotFoundError",
     "evalue": "[Errno 2] No such file or directory: 'Advantage of Python.txt'",
     "output_type": "error",
     "traceback": [
      "\u001b[0;31m---------------------------------------------------------------------------\u001b[0m",
      "\u001b[0;31mFileNotFoundError\u001b[0m                         Traceback (most recent call last)",
      "\u001b[0;32m/var/folders/5z/xb_33d255mq_trf2qys6_r540000gn/T/ipykernel_14776/1804038752.py\u001b[0m in \u001b[0;36m<module>\u001b[0;34m\u001b[0m\n\u001b[0;32m----> 1\u001b[0;31m \u001b[0mf\u001b[0m\u001b[0;34m=\u001b[0m\u001b[0mopen\u001b[0m\u001b[0;34m(\u001b[0m\u001b[0;34m\"Advantage of Python.txt\"\u001b[0m\u001b[0;34m,\u001b[0m \u001b[0mmode\u001b[0m\u001b[0;34m=\u001b[0m\u001b[0;34m\"r\"\u001b[0m\u001b[0;34m)\u001b[0m\u001b[0;34m\u001b[0m\u001b[0;34m\u001b[0m\u001b[0m\n\u001b[0m\u001b[1;32m      2\u001b[0m \u001b[0;31m#r read parametresi\u001b[0m\u001b[0;34m\u001b[0m\u001b[0;34m\u001b[0m\u001b[0m\n\u001b[1;32m      3\u001b[0m \u001b[0;31m#yazma modu var, duzenleme modu var, mod cok :)\u001b[0m\u001b[0;34m\u001b[0m\u001b[0;34m\u001b[0m\u001b[0m\n\u001b[1;32m      4\u001b[0m \u001b[0;31m#mode = \"r\" kodu read-only mode demektir,\u001b[0m\u001b[0;34m\u001b[0m\u001b[0;34m\u001b[0m\u001b[0m\n\u001b[1;32m      5\u001b[0m \u001b[0;31m#yani sadece okuyabilir, ama degisiklik yapamayiz\u001b[0m\u001b[0;34m\u001b[0m\u001b[0;34m\u001b[0m\u001b[0m\n",
      "\u001b[0;31mFileNotFoundError\u001b[0m: [Errno 2] No such file or directory: 'Advantage of Python.txt'"
     ]
    }
   ],
   "source": [
    "f=open(\"Advantage of Python.txt\", mode=\"r\")\n",
    "#r read parametresi\n",
    "#yazma modu var, duzenleme modu var, mod cok :)\n",
    "#mode = \"r\" kodu read-only mode demektir, \n",
    "#yani sadece okuyabilir, ama degisiklik yapamayiz\n",
    "#rw de read-write\n",
    "#mode=\"w\" yazmak icin dosya olusturur\n",
    "#mode=\"a\" append\n",
    "#mode=\"r+\n",
    "# 'r'       open for reading (default)\n",
    "# 'w'       open for writing, truncating the file first\n",
    "# 'x'       create a new file and open it for writing\n",
    "# 'a'       open for writing, appending to the end of the file if it exists\n",
    "# 'b'       binary mode\n",
    "# 't'       text mode (default)\n",
    "# '+'       open a disk file for updating (reading and writing)\n",
    "# 'U'       universal newline mode (deprecated)"
   ]
  },
  {
   "cell_type": "code",
   "execution_count": 3,
   "id": "14c08860-31c5-410a-b39b-073736db83b0",
   "metadata": {},
   "outputs": [],
   "source": [
    "icerik=f.read()\n",
    "print(icerik)"
   ]
  },
  {
   "cell_type": "code",
   "execution_count": 4,
   "id": "925c738f-52e4-4edf-a8b4-630bb821f919",
   "metadata": {},
   "outputs": [],
   "source": [
    "type(icerik)"
   ]
  },
  {
   "cell_type": "code",
   "execution_count": 6,
   "id": "f8e186de-afef-4e1a-91e0-b161c6ead6c1",
   "metadata": {},
   "outputs": [],
   "source": [
    "type(f.read())"
   ]
  },
  {
   "cell_type": "code",
   "execution_count": 7,
   "id": "8db617db-7db5-4dea-bd04-bc07c173917e",
   "metadata": {},
   "outputs": [],
   "source": [
    "type(f.read)"
   ]
  },
  {
   "cell_type": "code",
   "execution_count": 10,
   "id": "9f4f83b6-e96e-4554-8876-0a2cdd2adafb",
   "metadata": {},
   "outputs": [
    {
     "ename": "FileNotFoundError",
     "evalue": "[Errno 2] No such file or directory: 'Advantage of Python.txt'",
     "output_type": "error",
     "traceback": [
      "\u001b[0;31m---------------------------------------------------------------------------\u001b[0m",
      "\u001b[0;31mFileNotFoundError\u001b[0m                         Traceback (most recent call last)",
      "\u001b[0;32m/var/folders/5z/xb_33d255mq_trf2qys6_r540000gn/T/ipykernel_14776/786861200.py\u001b[0m in \u001b[0;36m<module>\u001b[0;34m\u001b[0m\n\u001b[0;32m----> 1\u001b[0;31m \u001b[0mf\u001b[0m\u001b[0;34m=\u001b[0m\u001b[0mopen\u001b[0m\u001b[0;34m(\u001b[0m\u001b[0;34m\"Advantage of Python.txt\"\u001b[0m\u001b[0;34m,\u001b[0m \u001b[0mmode\u001b[0m\u001b[0;34m=\u001b[0m\u001b[0;34m\"r\"\u001b[0m \u001b[0;34m)\u001b[0m\u001b[0;34m\u001b[0m\u001b[0;34m\u001b[0m\u001b[0m\n\u001b[0m\u001b[1;32m      2\u001b[0m \u001b[0mprint\u001b[0m\u001b[0;34m(\u001b[0m\u001b[0mf\u001b[0m\u001b[0;34m.\u001b[0m\u001b[0mread\u001b[0m\u001b[0;34m(\u001b[0m\u001b[0;34m)\u001b[0m\u001b[0;34m[\u001b[0m\u001b[0;34m:\u001b[0m\u001b[0;36m100\u001b[0m\u001b[0;34m]\u001b[0m\u001b[0;34m)\u001b[0m\u001b[0;34m\u001b[0m\u001b[0;34m\u001b[0m\u001b[0m\n\u001b[1;32m      3\u001b[0m \u001b[0;31m#bastan sona dogru okuyor\u001b[0m\u001b[0;34m\u001b[0m\u001b[0;34m\u001b[0m\u001b[0m\n",
      "\u001b[0;31mFileNotFoundError\u001b[0m: [Errno 2] No such file or directory: 'Advantage of Python.txt'"
     ]
    }
   ],
   "source": [
    "f=open(\"Advantage of Python.txt\", mode=\"r\" )\n",
    "print(f.read()[:100])\n",
    "#bastan sona dogru okuyor"
   ]
  },
  {
   "cell_type": "code",
   "execution_count": null,
   "id": "0c85f650-6a58-4d74-aa31-e727b724e3cb",
   "metadata": {},
   "outputs": [],
   "source": [
    "f.close()\n",
    "#actigimiz baglantilari ram tuketmemesi icin\n",
    "#isimiz bitince kapatiyoruz."
   ]
  },
  {
   "cell_type": "code",
   "execution_count": 11,
   "id": "bed2a728-a3bc-4a3c-a95a-08b499dade37",
   "metadata": {},
   "outputs": [],
   "source": [
    "f=open(\"Advantage of Python.txt\", mode=\"r\", encoding=\"utf8\")\n",
    "icerik=f.read()\n",
    "#okuyamadigimizi karakterleri okutmak icin kullaniyoruz encoding=utf8'i.\n",
    "#basliktan sonra \\n yazdirmis printle yazdirmadigimiz icin\n",
    "#new line'lar gorunuyor\n"
   ]
  },
  {
   "cell_type": "code",
   "execution_count": 54,
   "id": "143d90b3-1333-440c-a757-3d48a80d3445",
   "metadata": {},
   "outputs": [],
   "source": [
    "icerik[:500]"
   ]
  },
  {
   "cell_type": "code",
   "execution_count": 14,
   "id": "e4048f6a-ecf2-446a-b925-33e4336d35c3",
   "metadata": {},
   "outputs": [],
   "source": [
    "f=open(\"Advantage of Python.txt\", mode=\"r\", encoding=\"utf8\")\n",
    "icerik=f.read()\n",
    "f.close()\n",
    "print(icerik)"
   ]
  },
  {
   "cell_type": "code",
   "execution_count": 15,
   "id": "38fd51a1-aa9e-4300-bafa-41ba5a7120cb",
   "metadata": {},
   "outputs": [],
   "source": [
    "f = open(\"Advantage of Python.txt\",encoding=\"utf8\")\n",
    "icerik = f.read(100)\n",
    "f.close()\n",
    "print(icerik)\n",
    "f = open(\"Advantage of Python.txt\",encoding=\"utf8\")\n",
    "icerik1 = f.read(100)\n",
    "icerik2 = f.read(100)\n",
    "icerik3 = f.read(100)\n",
    "f.close()\n"
   ]
  },
  {
   "cell_type": "code",
   "execution_count": null,
   "id": "9549cd06-86d4-43bb-ab0d-26fd2f0ed180",
   "metadata": {},
   "outputs": [
    {
     "name": "stdout",
     "output_type": "stream",
     "text": [
      "Kolay Okunabilirlik ve Sadelik\n",
      "Python, okunması ve anlaşılması kolay olan bir dildir. Bu dil, insan \n"
     ]
    }
   ],
   "source": [
    "print(icerik1)\n"
   ]
  },
  {
   "cell_type": "code",
   "execution_count": null,
   "id": "b8de6b79-c112-41fa-82a3-41221c8c2e64",
   "metadata": {},
   "outputs": [
    {
     "name": "stdout",
     "output_type": "stream",
     "text": [
      "diline yakın bir söz dizimine sahiptir ve açık bir yapıya sahiptir. Yani, başka bir Python programcı\n"
     ]
    }
   ],
   "source": [
    "print(icerik2)\n"
   ]
  },
  {
   "cell_type": "code",
   "execution_count": null,
   "id": "cb6ac7d6-0bf7-439c-b4ba-4785ef0da830",
   "metadata": {},
   "outputs": [
    {
     "name": "stdout",
     "output_type": "stream",
     "text": [
      "sının yazdığı kodları kolayca anlayabilirsiniz.\n",
      "\n",
      "Ayrıca, Python'un basit ve sade söz dizimi, program\n"
     ]
    }
   ],
   "source": [
    "print(icerik3)\n"
   ]
  },
  {
   "cell_type": "code",
   "execution_count": 16,
   "id": "dc1318ae-ce6e-4752-b68a-fbe1b5169360",
   "metadata": {},
   "outputs": [
    {
     "name": "stdout",
     "output_type": "stream",
     "text": [
      "Kolay Okunabilirlik ve Sadelik\n",
      "Python, okunması ve anlaşılması kolay olan bir dildir. Bu dil, insan diline yakın bir söz dizimine sahiptir ve açık bir yapıya sahiptir. Yani, başka bir Python programcısının yazdığı kodları kolayca anlayabilirsiniz.\n",
      "\n",
      "Ayrıca, Python'un basit ve sade söz dizimi, program\n"
     ]
    }
   ],
   "source": [
    "print(icerik1+icerik2+icerik3)"
   ]
  },
  {
   "cell_type": "code",
   "execution_count": 17,
   "id": "721568c0-81b8-4f78-bc9c-2cb829e95d2a",
   "metadata": {},
   "outputs": [
    {
     "data": {
      "text/plain": [
       "300"
      ]
     },
     "execution_count": 67,
     "metadata": {},
     "output_type": "execute_result"
    }
   ],
   "source": [
    "len(icerik)"
   ]
  },
  {
   "cell_type": "code",
   "execution_count": 18,
   "id": "60b878d5-ec1d-4cc2-9ca3-a13106649efc",
   "metadata": {},
   "outputs": [],
   "source": [
    "icerik=icerik1+icerik2+icerik3"
   ]
  },
  {
   "cell_type": "code",
   "execution_count": 19,
   "id": "f5750f13-2749-4777-a62f-c58c4c3a7f0c",
   "metadata": {},
   "outputs": [
    {
     "data": {
      "text/plain": [
       "300"
      ]
     },
     "execution_count": 69,
     "metadata": {},
     "output_type": "execute_result"
    }
   ],
   "source": [
    "len(icerik)"
   ]
  },
  {
   "cell_type": "code",
   "execution_count": 2,
   "id": "49948606-64ed-4311-a919-11417b103f5e",
   "metadata": {},
   "outputs": [],
   "source": [
    "with open(\"Advantage of Python.txt\",encoding=\"utf8\") as f:\n",
    "    metin=f.read()    \n",
    "#open python'da kod blodgu olusturmka icin kullaniliyor\n",
    "    "
   ]
  },
  {
   "cell_type": "code",
   "execution_count": 23,
   "id": "36bbaf54-9bad-4b6e-aa70-1bd64dd284ba",
   "metadata": {},
   "outputs": [],
   "source": [
    "print(metin[:10])"
   ]
  },
  {
   "cell_type": "code",
   "execution_count": 24,
   "id": "45fde756-c59f-48ca-a4db-2fff225a5712",
   "metadata": {},
   "outputs": [],
   "source": [
    "f.closed()"
   ]
  },
  {
   "cell_type": "code",
   "execution_count": null,
   "id": "9f47c25d-1e02-423b-bdf1-7ac91237e52c",
   "metadata": {},
   "outputs": [],
   "source": []
  },
  {
   "cell_type": "code",
   "execution_count": 1,
   "id": "b7d93f9e-d739-4f77-9939-f6cd7349bdf2",
   "metadata": {},
   "outputs": [
    {
     "name": "stdout",
     "output_type": "stream",
     "text": [
      "['Kolay Okunabilirlik ve Sadelik\\n', 'Python, okunması ve anlaşılması kolay olan bir dildir. Bu dil, insan diline yakın bir söz dizimine sahiptir ve açık bir yapıya sahiptir. Yani, başka bir Python programcısının yazdığı kodları kolayca anlayabilirsiniz.\\n', '\\n', \"Ayrıca, Python'un basit ve sade söz dizimi, programcıların hızlı bir şekilde kod yazmalarını sağlar. Kodun anlaşılması ve yazılması daha kolay olduğundan, programcılar daha az zaman harcayarak daha fazla iş yapabilirler.\\n\", '\\n', 'Çok Yönlülük\\n', 'Python, birçok farklı alanda kullanılabilen bir dil olarak tanınır. Veri bilimi, yapay zeka, makine öğrenmesi, web geliştirme, otomasyon ve daha pek çok alanda kullanılabilir.\\n', '\\n', \"Python, çeşitli kütüphaneleri ve modülleri ile birlikte gelir. Bu kütüphaneler, birçok farklı alanda kullanılabilecek araçlar sunar ve Python'u daha da çok yönlü bir hale getirir.\\n\", '\\n']\n",
      "\n"
     ]
    },
    {
     "data": {
      "text/plain": [
       "True"
      ]
     },
     "execution_count": 1,
     "metadata": {},
     "output_type": "execute_result"
    }
   ],
   "source": [
    "with open(\"Advantage of Python.txt\",encoding=\"utf8\") as f:\n",
    "    metin=f.readlines() \n",
    "print(metin[:10])\n",
    "print()\n",
    "f.closed\n",
    "\n",
    "#readlines list olarak donduruyor. str'yi liste dondurmus oldu\n",
    "#dondururken de satir satir donduruyor. listin elemanlari herbir satir olmus oluyor\n",
    "#str'de yapamadigim manipulasyonlari yapabiliyoruz\n",
    "#listeyi print ettirirsek "
   ]
  },
  {
   "cell_type": "code",
   "execution_count": null,
   "id": "16809ea0-2759-4bef-81f8-a29b1781798d",
   "metadata": {},
   "outputs": [],
   "source": []
  },
  {
   "cell_type": "code",
   "execution_count": null,
   "id": "169cbf2d-68be-47bb-8d88-6fe55cd315c8",
   "metadata": {},
   "outputs": [],
   "source": [
    "#new line'dan bunun satir oldugunu anliyormus python\n"
   ]
  },
  {
   "cell_type": "code",
   "execution_count": 26,
   "id": "611dde0b-12e4-4103-b983-d1ae37b4c2e3",
   "metadata": {},
   "outputs": [
    {
     "ename": "AttributeError",
     "evalue": "'list' object has no attribute 'strip'",
     "output_type": "error",
     "traceback": [
      "\u001b[0;31m---------------------------------------------------------------------------\u001b[0m",
      "\u001b[0;31mAttributeError\u001b[0m                            Traceback (most recent call last)",
      "\u001b[0;32m/var/folders/5z/xb_33d255mq_trf2qys6_r540000gn/T/ipykernel_14776/2650058517.py\u001b[0m in \u001b[0;36m<module>\u001b[0;34m\u001b[0m\n\u001b[0;32m----> 1\u001b[0;31m \u001b[0mmetin\u001b[0m\u001b[0;34m[\u001b[0m\u001b[0;36m0\u001b[0m\u001b[0;34m:\u001b[0m\u001b[0;36m3\u001b[0m\u001b[0;34m]\u001b[0m\u001b[0;34m.\u001b[0m\u001b[0mstrip\u001b[0m\u001b[0;34m(\u001b[0m\u001b[0;34m'\\n'\u001b[0m\u001b[0;34m)\u001b[0m\u001b[0;34m\u001b[0m\u001b[0;34m\u001b[0m\u001b[0m\n\u001b[0m",
      "\u001b[0;31mAttributeError\u001b[0m: 'list' object has no attribute 'strip'"
     ]
    }
   ],
   "source": [
    "metin[0:3].strip('\\n')"
   ]
  },
  {
   "cell_type": "code",
   "execution_count": null,
   "id": "00f5728c-6c6c-4061-b9ef-03221a718f37",
   "metadata": {},
   "outputs": [],
   "source": [
    "#yukaridaki attributeError i neden verdi\n",
    "#list object strip olmaz diyor\n",
    "#strip string veri tipine ait bir method\n",
    "#bu hatayi nasil cozecegim, str'ye cevirerek\n"
   ]
  },
  {
   "cell_type": "code",
   "execution_count": 27,
   "id": "0640c317-bec7-4d1a-aadd-7d8fd1106cb4",
   "metadata": {
    "tags": []
   },
   "outputs": [
    {
     "data": {
      "text/plain": [
       "'Kolay Okunabilirlik ve Sadelik  Python, okunması ve anlaşılması kolay olan bir dildir. Bu dil, insan diline yakın bir söz dizimine sahiptir ve açık bir yapıya sahiptir. Yani, başka bir Python programcısının yazdığı kodları kolayca anlayabilirsiniz.   '"
      ]
     },
     "execution_count": 27,
     "metadata": {},
     "output_type": "execute_result"
    }
   ],
   "source": [
    "\" \".join(metin[0:3]).replace('\\n',\" \")\n",
    "#boylece napmis olduk. \n",
    "#liste olan metni str'ye cevirmis ondan sonra str methodu olan replace'i kullanmis oluyoruz\n",
    "#'\\n' yi bosluk ile replace etmis olduk"
   ]
  },
  {
   "cell_type": "code",
   "execution_count": 4,
   "id": "17f1278d-6cfa-4607-8728-98036b6117c6",
   "metadata": {},
   "outputs": [
    {
     "data": {
      "text/plain": [
       "str"
      ]
     },
     "execution_count": 4,
     "metadata": {},
     "output_type": "execute_result"
    }
   ],
   "source": [
    "type(metin)\n",
    "#kalici olarak str'ye cevirmis"
   ]
  },
  {
   "cell_type": "code",
   "execution_count": 3,
   "id": "61b7802e-9dc9-4e12-97f6-9fb0043987cf",
   "metadata": {},
   "outputs": [
    {
     "name": "stdout",
     "output_type": "stream",
     "text": [
      "Kolay Okunabilirlik ve Sadelik\n",
      "\n",
      "Python, okunması ve anlaşılması kolay olan bir dildir. Bu dil, insan diline yakın bir söz dizimine sahiptir ve açık bir yapıya sahiptir. Yani, başka bir Python programcısının yazdığı kodları kolayca anlayabilirsiniz.\n",
      "\n",
      "\n",
      "\n",
      "Ayrıca, Python'un basit ve sade söz dizimi, programcıların hızlı bir şekilde kod yazmalarını sağlar. Kodun anlaşılması ve yazılması daha kolay olduğundan, programcılar daha az zaman harcayarak daha fazla iş yapabilirler.\n",
      "\n",
      "\n",
      "\n",
      "Çok Yönlülük\n",
      "\n",
      "Python, birçok farklı alanda kullanılabilen bir dil olarak tanınır. Veri bilimi, yapay zeka, makine öğrenmesi, web geliştirme, otomasyon ve daha pek çok alanda kullanılabilir.\n",
      "\n",
      "\n",
      "\n",
      "Python, çeşitli kütüphaneleri ve modülleri ile birlikte gelir. Bu kütüphaneler, birçok farklı alanda kullanılabilecek araçlar sunar ve Python'u daha da çok yönlü bir hale getirir.\n",
      "\n",
      "\n",
      "\n",
      "Büyük Topluluk ve Kapsamlı Belgelendirme\n",
      "\n",
      "Python'un en büyük avantajlarından biri, dünya çapında büyük bir topluluğa sahip olmasıdır. Bu topluluk, Python'u kullanan programcılara yardımcı olmak için birçok kaynak sunar. Ayrıca, Python'un kapsamlı bir belgelendirmesi vardır ve programcılar, ihtiyaç duydukları herhangi bir konuda bilgi edinmek için belgelendirmeyi kullanabilirler.\n",
      "\n",
      "\n",
      "\n",
      "Ücretsiz ve Açık Kaynaklı\n",
      "\n",
      "Python, ücretsiz ve açık kaynaklı bir dildir. Bu, programcıların Python'u kullanarak projelerine başlamaları için herhangi bir ücret ödemelerine gerek olmadığı anlamına gelir. Python, tüm dünyadaki programcılar tarafından geliştirilmeye açıktır ve bu da Python topluluğunun büyümesine ve gelişmesine katkıda bulunur.\n",
      "\n",
      "\n",
      "\n",
      "Sonuç\n",
      "\n",
      "Python, kolay okunabilirlik, çok yönlülük, büyük topluluk ve kapsamlı belgelendirme, ücretsiz ve açık kaynaklı olma gibi birçok avantajıyla öne çıkar. Bu nedenle, Python son yıllarda birçok farklı alanda kullanılan en popüler dillerden biri haline gelmiştir.\n",
      "\n"
     ]
    }
   ],
   "source": [
    "with open(\"Advantage of Python.txt\",encoding=\"utf8\") as f:\n",
    "    for i in f:\n",
    "        print(i)\n",
    "\n",
    "        \n",
    "#for dongusuyle satir satir okutabiliyoruz\n",
    "#aralarda bosluk yazdirdi."
   ]
  },
  {
   "cell_type": "code",
   "execution_count": 31,
   "id": "8201810e-5aeb-4b32-bbd1-70c6b0228d13",
   "metadata": {},
   "outputs": [
    {
     "name": "stdout",
     "output_type": "stream",
     "text": [
      "Kolay Okunabilirlik ve Sadelik\n",
      "\n"
     ]
    }
   ],
   "source": [
    "with open(\"Advantage of Python.txt\",encoding=\"utf8\") as f:\n",
    "    for i in f:\n",
    "        print(i)\n",
    "        break\n",
    "#bu da ilk satirini okuttu ve break oldu.       "
   ]
  },
  {
   "cell_type": "code",
   "execution_count": null,
   "id": "202a59bf-e9e2-4fd0-91f4-cf7da7821b72",
   "metadata": {},
   "outputs": [],
   "source": []
  },
  {
   "cell_type": "code",
   "execution_count": 33,
   "id": "ff13daf1-8b20-4c26-859f-c47a71326544",
   "metadata": {
    "tags": []
   },
   "outputs": [
    {
     "name": "stdout",
     "output_type": "stream",
     "text": [
      "Kolay Okunabilirlik ve Sadelik\n",
      "\n",
      "Python, okunması ve anlaşılması kolay olan bir dildir. Bu dil, insan diline yakın bir söz dizimine sahiptir ve açık bir yapıya sahiptir. Yani, başka bir Python programcısının yazdığı kodları kolayca anlayabilirsiniz.\n",
      "\n",
      "\n",
      "\n"
     ]
    }
   ],
   "source": [
    "with open(\"Advantage of Python.txt\",encoding=\"utf8\") as f:\n",
    "    satir=0\n",
    "    for i in f:\n",
    "        print(i)\n",
    "        satir+=1\n",
    "        if satir==3:\n",
    "            break\n",
    "#bu da 3 satir mi okuttu napti            "
   ]
  },
  {
   "cell_type": "code",
   "execution_count": 12,
   "id": "6ddb3d67-7be8-47c3-b4bd-40d7d6b68d23",
   "metadata": {},
   "outputs": [
    {
     "name": "stdout",
     "output_type": "stream",
     "text": [
      "Kolay Okunabilirlik ve Sadelik\n",
      "\n",
      "Python, okunması ve anlaşılması kolay olan bir dildir. Bu dil, insan diline yakın bir söz dizimine sahiptir ve açık bir yapıya sahiptir. Yani, başka bir Python programcısının yazdığı kodları kolayca anlayabilirsiniz.\n",
      "\n",
      "\n",
      "\n"
     ]
    }
   ],
   "source": [
    "with open('Advantage of Python.txt', mode = \"r\", encoding = \"utf-8\") as f:\n",
    "    for i in range(3):\n",
    "        print(f.readline())\n",
    "\n",
    "#bu da ilk 3 satiri okuttu \n",
    "#2. yol readline'la diyebiliriz."
   ]
  },
  {
   "cell_type": "code",
   "execution_count": 36,
   "id": "9b25bf15-7c6f-4217-953d-84c559d5f9db",
   "metadata": {},
   "outputs": [
    {
     "name": "stdout",
     "output_type": "stream",
     "text": [
      "10\n",
      "20\n"
     ]
    }
   ],
   "source": [
    "f = open(\"Advantage of Python.txt\",encoding=\"utf8\")\n",
    "metin=f.read(10)\n",
    "\n",
    "print(f.tell())\n",
    "\n",
    "metin+= f.read(10)\n",
    "\n",
    "print(f.tell())\n",
    "#txt dosyasinda imlecin pozisyonunu bize doner. hangi indexde olduğunu bildirir.\n"
   ]
  },
  {
   "cell_type": "markdown",
   "id": "2ad077fb-7e02-4771-9cf6-58466eec5dc0",
   "metadata": {},
   "source": [
    "## dosya olusturma ve dosya yazma"
   ]
  },
  {
   "cell_type": "code",
   "execution_count": 37,
   "id": "27bba72e-6717-4bc1-8444-10be0b2de2e0",
   "metadata": {},
   "outputs": [
    {
     "name": "stdout",
     "output_type": "stream",
     "text": [
      "/Users/merthan/Desktop/IT_Course/Python/Advanced_Python\n"
     ]
    }
   ],
   "source": [
    "#mode=\"w\"\n",
    "print(os.getcwd())"
   ]
  },
  {
   "cell_type": "code",
   "execution_count": 38,
   "id": "6b64f1bf-7423-45c9-aa41-f9b198327e4a",
   "metadata": {},
   "outputs": [],
   "source": [
    "os.mkdir(\"files\")\n",
    "os.chdir(\"files\")"
   ]
  },
  {
   "cell_type": "code",
   "execution_count": 39,
   "id": "3c57f1e9-c716-4bfb-a359-d63458067d5a",
   "metadata": {},
   "outputs": [
    {
     "name": "stdout",
     "output_type": "stream",
     "text": [
      "/Users/merthan/Desktop/IT_Course/Python/Advanced_Python/files\n"
     ]
    }
   ],
   "source": [
    "print(os.getcwd())"
   ]
  },
  {
   "cell_type": "code",
   "execution_count": 43,
   "id": "0d4247c1-ec10-4338-ae38-ec9d347d4d88",
   "metadata": {},
   "outputs": [],
   "source": [
    "with open(\"test.txt\", mode= \"w\", encoding=\"utf-8\") as f:\n",
    "    f.write(\"Merhaba Dunya\")"
   ]
  },
  {
   "cell_type": "code",
   "execution_count": 45,
   "id": "12883d64-619e-44b2-be46-387e7f46c6dd",
   "metadata": {},
   "outputs": [],
   "source": [
    "with open(\"test.txt\", mode= \"w\", encoding=\"utf-8\") as f:\n",
    "    f.write(\"Tum veriler silindi. Dosya yeniden olusturuldu\")\n",
    "#write command kullanirsam uzerine yazar, eski yazdiklarin gider\n",
    "#o yuzden append command kullanman lazim\n"
   ]
  },
  {
   "cell_type": "code",
   "execution_count": 46,
   "id": "db115185-529b-4871-94c6-c456f17f781e",
   "metadata": {},
   "outputs": [],
   "source": [
    "with open(\"test.txt\", mode= \"a\", encoding=\"utf-8\") as f:\n",
    "    f.write(\"mode a olarak belirlendi. dosyanin sonuna bilgiler eklendi\")\n",
    "    x=5\n",
    "#x=5 neden yazdik fikrim yok    "
   ]
  },
  {
   "cell_type": "code",
   "execution_count": null,
   "id": "a823aea3-68e4-49b2-9b20-db719a5840d6",
   "metadata": {},
   "outputs": [],
   "source": [
    "with open(\"test.txt\", mode= \"a+\", encoding=\"utf-8\") as f:\n",
    "    f.write(\"Tum veriler silindi. Dosya yeniden olusturuldu\")"
   ]
  },
  {
   "cell_type": "code",
   "execution_count": 52,
   "id": "edfbf67e-1679-4cd5-8a2e-e67535155119",
   "metadata": {},
   "outputs": [
    {
     "ename": "TypeError",
     "evalue": "argument should be integer or None, not 'str'",
     "output_type": "error",
     "traceback": [
      "\u001b[0;31m---------------------------------------------------------------------------\u001b[0m",
      "\u001b[0;31mTypeError\u001b[0m                                 Traceback (most recent call last)",
      "\u001b[0;32m/var/folders/5z/xb_33d255mq_trf2qys6_r540000gn/T/ipykernel_14776/3090619617.py\u001b[0m in \u001b[0;36m<module>\u001b[0;34m\u001b[0m\n\u001b[1;32m      1\u001b[0m \u001b[0;32mwith\u001b[0m \u001b[0mopen\u001b[0m\u001b[0;34m(\u001b[0m\u001b[0;34m\"test.txt\"\u001b[0m\u001b[0;34m,\u001b[0m \u001b[0mmode\u001b[0m\u001b[0;34m=\u001b[0m \u001b[0;34m\"a+\"\u001b[0m\u001b[0;34m,\u001b[0m \u001b[0mencoding\u001b[0m\u001b[0;34m=\u001b[0m\u001b[0;34m\"utf-8\"\u001b[0m\u001b[0;34m)\u001b[0m \u001b[0;32mas\u001b[0m \u001b[0mf\u001b[0m\u001b[0;34m:\u001b[0m\u001b[0;34m\u001b[0m\u001b[0;34m\u001b[0m\u001b[0m\n\u001b[0;32m----> 2\u001b[0;31m     \u001b[0mmetin\u001b[0m\u001b[0;34m=\u001b[0m\u001b[0mf\u001b[0m\u001b[0;34m.\u001b[0m\u001b[0mread\u001b[0m\u001b[0;34m(\u001b[0m\u001b[0;34m\"xyz\"\u001b[0m\u001b[0;34m)\u001b[0m\u001b[0;34m\u001b[0m\u001b[0;34m\u001b[0m\u001b[0m\n\u001b[0m",
      "\u001b[0;31mTypeError\u001b[0m: argument should be integer or None, not 'str'"
     ]
    }
   ],
   "source": [
    "with open(\"test.txt\", mode= \"a+\", encoding=\"utf-8\") as f:\n",
    "    metin=f.read(\"xyz\")"
   ]
  },
  {
   "cell_type": "code",
   "execution_count": 51,
   "id": "fe75d512-5b75-4bfb-b597-925afb6af49a",
   "metadata": {},
   "outputs": [],
   "source": [
    "with open(\"test.txt\", mode= \"a+\", encoding=\"utf-8\") as f:\n",
    "    metin=f.read(5)"
   ]
  },
  {
   "cell_type": "code",
   "execution_count": 53,
   "id": "04f247bb-59e8-43b6-8d9e-14cc50fa355b",
   "metadata": {},
   "outputs": [],
   "source": [
    "with open(\"test.txt\", mode= \"r+\", encoding=\"utf-8\") as f:\n",
    "    metin=f.read()"
   ]
  },
  {
   "cell_type": "code",
   "execution_count": null,
   "id": "c8075dbe-f0cc-471f-ab51-e1538cf1f528",
   "metadata": {},
   "outputs": [],
   "source": []
  }
 ],
 "metadata": {
  "kernelspec": {
   "display_name": "Python 3 (ipykernel)",
   "language": "python",
   "name": "python3"
  },
  "language_info": {
   "codemirror_mode": {
    "name": "ipython",
    "version": 3
   },
   "file_extension": ".py",
   "mimetype": "text/x-python",
   "name": "python",
   "nbconvert_exporter": "python",
   "pygments_lexer": "ipython3",
   "version": "3.9.13"
  }
 },
 "nbformat": 4,
 "nbformat_minor": 5
}
