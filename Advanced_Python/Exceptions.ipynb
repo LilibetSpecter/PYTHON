{
 "cells": [
  {
   "cell_type": "markdown",
   "id": "18bff46b-bc26-4f90-8692-ddccb66d4211",
   "metadata": {},
   "source": [
    "## Exceptions"
   ]
  },
  {
   "cell_type": "code",
   "execution_count": 1,
   "id": "93f42702-1cd8-48b0-9772-a0f4bab90f92",
   "metadata": {},
   "outputs": [
    {
     "name": "stdout",
     "output_type": "stream",
     "text": [
      "5.0\n"
     ]
    }
   ],
   "source": [
    "bolunen=10\n",
    "bolen=2\n",
    "bolum=bolunen/bolen\n",
    "print(bolum)"
   ]
  },
  {
   "cell_type": "code",
   "execution_count": 5,
   "id": "9959b82e-3ed5-472e-8446-16ee26cfb421",
   "metadata": {},
   "outputs": [
    {
     "ename": "ZeroDivisionError",
     "evalue": "division by zero",
     "output_type": "error",
     "traceback": [
      "\u001b[0;31m---------------------------------------------------------------------------\u001b[0m",
      "\u001b[0;31mZeroDivisionError\u001b[0m                         Traceback (most recent call last)",
      "\u001b[0;32m/var/folders/5z/xb_33d255mq_trf2qys6_r540000gn/T/ipykernel_5516/4107138018.py\u001b[0m in \u001b[0;36m<module>\u001b[0;34m\u001b[0m\n\u001b[1;32m      1\u001b[0m \u001b[0mbolunen\u001b[0m\u001b[0;34m=\u001b[0m\u001b[0;36m10\u001b[0m\u001b[0;34m\u001b[0m\u001b[0;34m\u001b[0m\u001b[0m\n\u001b[1;32m      2\u001b[0m \u001b[0mbolen\u001b[0m\u001b[0;34m=\u001b[0m\u001b[0;36m0\u001b[0m\u001b[0;34m\u001b[0m\u001b[0;34m\u001b[0m\u001b[0m\n\u001b[0;32m----> 3\u001b[0;31m \u001b[0mbolum\u001b[0m\u001b[0;34m=\u001b[0m\u001b[0mbolunen\u001b[0m\u001b[0;34m/\u001b[0m\u001b[0mbolen\u001b[0m\u001b[0;34m\u001b[0m\u001b[0;34m\u001b[0m\u001b[0m\n\u001b[0m\u001b[1;32m      4\u001b[0m \u001b[0mprint\u001b[0m\u001b[0;34m(\u001b[0m\u001b[0mbolum\u001b[0m\u001b[0;34m)\u001b[0m\u001b[0;34m\u001b[0m\u001b[0;34m\u001b[0m\u001b[0m\n",
      "\u001b[0;31mZeroDivisionError\u001b[0m: division by zero"
     ]
    }
   ],
   "source": [
    "bolunen=10\n",
    "bolen=0\n",
    "bolum=bolunen/bolen\n",
    "print(bolum)"
   ]
  },
  {
   "cell_type": "code",
   "execution_count": 2,
   "id": "63f3206e-0c0e-44a5-8eb7-5cd35184faf4",
   "metadata": {},
   "outputs": [
    {
     "ename": "IndexError",
     "evalue": "string index out of range",
     "output_type": "error",
     "traceback": [
      "\u001b[0;31m---------------------------------------------------------------------------\u001b[0m",
      "\u001b[0;31mIndexError\u001b[0m                                Traceback (most recent call last)",
      "\u001b[0;32m/var/folders/5z/xb_33d255mq_trf2qys6_r540000gn/T/ipykernel_5516/3677379894.py\u001b[0m in \u001b[0;36m<module>\u001b[0;34m\u001b[0m\n\u001b[1;32m      1\u001b[0m \u001b[0ma\u001b[0m\u001b[0;34m=\u001b[0m\u001b[0;34m\"123\"\u001b[0m\u001b[0;34m\u001b[0m\u001b[0;34m\u001b[0m\u001b[0m\n\u001b[0;32m----> 2\u001b[0;31m \u001b[0ma\u001b[0m\u001b[0;34m[\u001b[0m\u001b[0;36m4\u001b[0m\u001b[0;34m]\u001b[0m\u001b[0;34m\u001b[0m\u001b[0;34m\u001b[0m\u001b[0m\n\u001b[0m",
      "\u001b[0;31mIndexError\u001b[0m: string index out of range"
     ]
    }
   ],
   "source": [
    "a=\"123\"\n",
    "a[4]"
   ]
  },
  {
   "cell_type": "code",
   "execution_count": 3,
   "id": "419df677-cdff-4adb-8cd3-77e5fe51d0a0",
   "metadata": {},
   "outputs": [
    {
     "ename": "TypeError",
     "evalue": "'int' object is not subscriptable",
     "output_type": "error",
     "traceback": [
      "\u001b[0;31m---------------------------------------------------------------------------\u001b[0m",
      "\u001b[0;31mTypeError\u001b[0m                                 Traceback (most recent call last)",
      "\u001b[0;32m/var/folders/5z/xb_33d255mq_trf2qys6_r540000gn/T/ipykernel_5516/3819339423.py\u001b[0m in \u001b[0;36m<module>\u001b[0;34m\u001b[0m\n\u001b[1;32m      1\u001b[0m \u001b[0ma\u001b[0m\u001b[0;34m=\u001b[0m\u001b[0;36m123\u001b[0m\u001b[0;34m\u001b[0m\u001b[0;34m\u001b[0m\u001b[0m\n\u001b[0;32m----> 2\u001b[0;31m \u001b[0ma\u001b[0m\u001b[0;34m[\u001b[0m\u001b[0;36m1\u001b[0m\u001b[0;34m]\u001b[0m\u001b[0;34m\u001b[0m\u001b[0;34m\u001b[0m\u001b[0m\n\u001b[0m",
      "\u001b[0;31mTypeError\u001b[0m: 'int' object is not subscriptable"
     ]
    }
   ],
   "source": [
    "a=123\n",
    "a[1]"
   ]
  },
  {
   "cell_type": "code",
   "execution_count": 4,
   "id": "30fd4c5b-7385-406a-8f1a-fd80da9ab6c2",
   "metadata": {},
   "outputs": [],
   "source": [
    "try:\n",
    "    pass\n",
    "except:\n",
    "    pass\n",
    "#try'da bir hata varsa,\n",
    "#except blogunda hatayi yakalayabilirsek, ona gore devam ediyor"
   ]
  },
  {
   "cell_type": "code",
   "execution_count": 6,
   "id": "ea3709ab-8b7d-4cfa-a628-e89119db7bc4",
   "metadata": {},
   "outputs": [
    {
     "name": "stdout",
     "output_type": "stream",
     "text": [
      "Sifir ile bolme yapilamaz\n"
     ]
    }
   ],
   "source": [
    "try:\n",
    "    bolunen=10\n",
    "    bolen=0\n",
    "    bolum=bolunen/bolen\n",
    "    print(bolum)\n",
    "except ZeroDivisionError:\n",
    "    print(\"Sifir ile bolme yapilamaz\")\n",
    "#istedigimiz manipulasyonu yapip, istedigimiz ciktiyi alabiliriz    "
   ]
  },
  {
   "cell_type": "code",
   "execution_count": 7,
   "id": "3676ebd9-aa5d-411c-b5a8-676b418d09e3",
   "metadata": {},
   "outputs": [
    {
     "ename": "NameError",
     "evalue": "name 'x' is not defined",
     "output_type": "error",
     "traceback": [
      "\u001b[0;31m---------------------------------------------------------------------------\u001b[0m",
      "\u001b[0;31mNameError\u001b[0m                                 Traceback (most recent call last)",
      "\u001b[0;32m/var/folders/5z/xb_33d255mq_trf2qys6_r540000gn/T/ipykernel_5516/87875159.py\u001b[0m in \u001b[0;36m<module>\u001b[0;34m\u001b[0m\n\u001b[1;32m      1\u001b[0m \u001b[0mbolunen\u001b[0m\u001b[0;34m=\u001b[0m\u001b[0;36m10\u001b[0m\u001b[0;34m\u001b[0m\u001b[0;34m\u001b[0m\u001b[0m\n\u001b[0;32m----> 2\u001b[0;31m \u001b[0mx\u001b[0m\u001b[0;34m\u001b[0m\u001b[0;34m\u001b[0m\u001b[0m\n\u001b[0m\u001b[1;32m      3\u001b[0m \u001b[0mbolen\u001b[0m\u001b[0;34m=\u001b[0m\u001b[0;36m0\u001b[0m\u001b[0;34m\u001b[0m\u001b[0;34m\u001b[0m\u001b[0m\n\u001b[1;32m      4\u001b[0m \u001b[0;32mtry\u001b[0m\u001b[0;34m:\u001b[0m\u001b[0;34m\u001b[0m\u001b[0;34m\u001b[0m\u001b[0m\n\u001b[1;32m      5\u001b[0m     \u001b[0mbolum\u001b[0m\u001b[0;34m=\u001b[0m\u001b[0mbolunen\u001b[0m\u001b[0;34m/\u001b[0m\u001b[0mbolen\u001b[0m\u001b[0;34m\u001b[0m\u001b[0;34m\u001b[0m\u001b[0m\n",
      "\u001b[0;31mNameError\u001b[0m: name 'x' is not defined"
     ]
    }
   ],
   "source": [
    "bolunen=10\n",
    "x\n",
    "bolen=0\n",
    "try:\n",
    "    bolum=bolunen/bolen\n",
    "except ZeroDivisionError:\n",
    "    print(\"Hata!!\")\n",
    "    \n",
    "#kodlarimizi try bloguna yazmadik\n",
    "#zaten hata yakalamasi icin bloga yazmam gerek\n",
    "#ama zaten disarda da x yazmisim ki tanimlamamaisim\n",
    "#o yuzden name error verdi bana en basta"
   ]
  },
  {
   "cell_type": "code",
   "execution_count": 8,
   "id": "0e181d83-4475-44d8-a288-6f40df70c217",
   "metadata": {},
   "outputs": [
    {
     "name": "stdout",
     "output_type": "stream",
     "text": [
      "Tanimlanmayan degisken\n"
     ]
    }
   ],
   "source": [
    "try:\n",
    "    bolunen=10\n",
    "    x\n",
    "    bolen=0\n",
    "    bolum=bolunen/bolen\n",
    "except ZeroDivisionError:\n",
    "    print(\"Hata!!\")\n",
    "except NameError:\n",
    "    print(\"Tanimlanmayan degisken\")\n",
    "    \n",
    "#try blogunda zaten bir hata varsa, kod blogunu calistirmadan\n",
    "#oradaki sorunu yazdiriyor"
   ]
  },
  {
   "cell_type": "code",
   "execution_count": 10,
   "id": "538ce7f6-d95c-42a5-9dfb-bce9efce51f4",
   "metadata": {},
   "outputs": [
    {
     "name": "stdout",
     "output_type": "stream",
     "text": [
      "Hata!!\n"
     ]
    }
   ],
   "source": [
    "try:\n",
    "    bolunen=10\n",
    "    x\n",
    "    bolen=0\n",
    "    bolum=bolunen/bolen\n",
    "except ZeroDivisionError:\n",
    "    print(\"Hata!!\")\n",
    "except NameError:\n",
    "    print(\"Tanimlanmayan degisken\")\n",
    "    x=bolunen\n",
    "    print(x)\n",
    "#burda mesela, x error'ini yakalaybilirsen except ile\n",
    "#o zaman bana exceptin altina yazdigim kod blogunu\n",
    "#calistir demis oluyorum"
   ]
  },
  {
   "cell_type": "code",
   "execution_count": 11,
   "id": "4afb758f-fc04-4985-b94f-ad5dc4f1587b",
   "metadata": {},
   "outputs": [
    {
     "ename": "IndexError",
     "evalue": "string index out of range",
     "output_type": "error",
     "traceback": [
      "\u001b[0;31m---------------------------------------------------------------------------\u001b[0m",
      "\u001b[0;31mIndexError\u001b[0m                                Traceback (most recent call last)",
      "\u001b[0;32m/var/folders/5z/xb_33d255mq_trf2qys6_r540000gn/T/ipykernel_5516/267771916.py\u001b[0m in \u001b[0;36m<module>\u001b[0;34m\u001b[0m\n\u001b[1;32m      1\u001b[0m \u001b[0misim\u001b[0m\u001b[0;34m=\u001b[0m\u001b[0;34m\"Ahmet\"\u001b[0m\u001b[0;34m\u001b[0m\u001b[0;34m\u001b[0m\u001b[0m\n\u001b[0;32m----> 2\u001b[0;31m \u001b[0misim\u001b[0m\u001b[0;34m[\u001b[0m\u001b[0;36m5\u001b[0m\u001b[0;34m]\u001b[0m\u001b[0;34m\u001b[0m\u001b[0;34m\u001b[0m\u001b[0m\n\u001b[0m",
      "\u001b[0;31mIndexError\u001b[0m: string index out of range"
     ]
    }
   ],
   "source": [
    "isim=\"Ahmet\"\n",
    "isim[5]"
   ]
  },
  {
   "cell_type": "code",
   "execution_count": 12,
   "id": "55751d31-e9ad-4ab7-a3e1-ceb3d9a37565",
   "metadata": {},
   "outputs": [
    {
     "name": "stdout",
     "output_type": "stream",
     "text": [
      "Hata!! IndexError.\n"
     ]
    }
   ],
   "source": [
    "try:\n",
    "    bolunen=10\n",
    "    isim=\"Ahmet\"\n",
    "    bolen=0\n",
    "    isim[5]\n",
    "    bolum=bolunen/bolen\n",
    "except ZeroDivisionError:\n",
    "    print(\"Hata!!Sifir ile bolme yapilamaz\")\n",
    "except NameError:\n",
    "    print(\"Tanimlanmayan degisken\")\n",
    "    x=bolunen\n",
    "    print(x)\n",
    "except IndexError:\n",
    "    print(\"Hata!! IndexError.\")\n",
    "    \n",
    "#hatalari kontrol ediyor.     "
   ]
  },
  {
   "cell_type": "code",
   "execution_count": 17,
   "id": "570c4256-2a63-4e8a-b235-5d50a1f62a82",
   "metadata": {},
   "outputs": [
    {
     "name": "stdout",
     "output_type": "stream",
     "text": [
      "Hata!!Sifir ile bolme yapilamaz\n"
     ]
    },
    {
     "ename": "ZeroDivisionError",
     "evalue": "division by zero",
     "output_type": "error",
     "traceback": [
      "\u001b[0;31m---------------------------------------------------------------------------\u001b[0m",
      "\u001b[0;31mZeroDivisionError\u001b[0m                         Traceback (most recent call last)",
      "\u001b[0;32m/var/folders/5z/xb_33d255mq_trf2qys6_r540000gn/T/ipykernel_5516/713928209.py\u001b[0m in \u001b[0;36m<module>\u001b[0;34m\u001b[0m\n\u001b[1;32m     15\u001b[0m \u001b[0;32mexcept\u001b[0m \u001b[0mIndexError\u001b[0m\u001b[0;34m:\u001b[0m\u001b[0;34m\u001b[0m\u001b[0;34m\u001b[0m\u001b[0m\n\u001b[1;32m     16\u001b[0m     \u001b[0mprint\u001b[0m\u001b[0;34m(\u001b[0m\u001b[0;34m\"Hata!! IndexError.\"\u001b[0m\u001b[0;34m)\u001b[0m\u001b[0;34m\u001b[0m\u001b[0;34m\u001b[0m\u001b[0m\n\u001b[0;32m---> 17\u001b[0;31m \u001b[0mprint\u001b[0m\u001b[0;34m(\u001b[0m\u001b[0;34mf\"Program calismaya devam ediyor,{bolunen/bolen}\"\u001b[0m\u001b[0;34m)\u001b[0m\u001b[0;34m\u001b[0m\u001b[0;34m\u001b[0m\u001b[0m\n\u001b[0m",
      "\u001b[0;31mZeroDivisionError\u001b[0m: division by zero"
     ]
    }
   ],
   "source": [
    "try:\n",
    "    bolunen=10\n",
    "    isim=\"Ahmet\"\n",
    "    bolen=0\n",
    "    bolum=bolunen/bolen\n",
    "    isim[5]\n",
    "    x\n",
    " \n",
    "except ZeroDivisionError:\n",
    "    print(\"Hata!!Sifir ile bolme yapilamaz\")\n",
    "except NameError:\n",
    "    print(\"Tanimlanmayan degisken\")\n",
    "    x=bolunen\n",
    "    print(x)\n",
    "except IndexError:\n",
    "    print(\"Hata!! IndexError.\")\n",
    "print(f\"Program calismaya devam ediyor,{bolunen/bolen}\")"
   ]
  },
  {
   "cell_type": "code",
   "execution_count": 15,
   "id": "f23b2aee-6e9a-4b98-b22c-8685f62c1ce6",
   "metadata": {},
   "outputs": [
    {
     "name": "stdout",
     "output_type": "stream",
     "text": [
      "Hata!!! Sifir ile bolme yapilamaz\n",
      "Program calismaya devam ediyor,5.0\n"
     ]
    }
   ],
   "source": [
    "try:\n",
    "    bolunen=10\n",
    "    isim=\"Ahmet\"\n",
    "    bolen=0\n",
    "    bolum=bolunen / bolen\n",
    "    isim[5]\n",
    "    x\n",
    "except ZeroDivisionError:\n",
    "    print(\"Hata!!! Sifir ile bolme yapilamaz\")\n",
    "    bolen=2\n",
    "except NameError:\n",
    "    print(\"Tanimlanmayan degisken\")\n",
    "except IndexError:\n",
    "    print(\"Hata!! Index Error\")\n",
    "print(f\"Program calismaya devam ediyor,{bolunen/bolen}\")"
   ]
  },
  {
   "cell_type": "code",
   "execution_count": 20,
   "id": "33384a00-97bc-458a-a2a9-0ccd5b14c7e3",
   "metadata": {},
   "outputs": [
    {
     "name": "stdout",
     "output_type": "stream",
     "text": [
      "Tum hatalari burda yakaliyoruz\n",
      "unsupported operand type(s) for /: 'int' and 'str'\n"
     ]
    }
   ],
   "source": [
    "try:\n",
    "    bolunen=10\n",
    "    isim=\"Ahmet\"\n",
    "    bolen=\"12\"\n",
    "    bolum=bolunen / bolen\n",
    "    isim[5]\n",
    "    x\n",
    "except ZeroDivisionError:\n",
    "    print(\"Hata!!! Sifir ile bolme yapilamaz\")\n",
    "    bolen=2\n",
    "except NameError:\n",
    "    print(\"Tanimlanmayan degisken\")\n",
    "except IndexError:\n",
    "    print(\"Hata!! Index Error\")\n",
    "except Exception as error:\n",
    "    \n",
    "    print(\"Tum hatalari burda yakaliyoruz\")\n",
    "    print(error)"
   ]
  },
  {
   "cell_type": "code",
   "execution_count": 19,
   "id": "559fecf1-222f-4446-a9bd-8ddacd8dd827",
   "metadata": {},
   "outputs": [
    {
     "name": "stdout",
     "output_type": "stream",
     "text": [
      "Tum hatalari burda yakaliyoruz\n",
      "division by zero\n"
     ]
    }
   ],
   "source": [
    "try:\n",
    "    bolunen=10\n",
    "    isim=\"Ahmet\"\n",
    "    bolen=\"12\"\n",
    "    bolum=bolunen / bolen\n",
    "    isim[5]\n",
    "    x\n",
    "    \n",
    "except Exception as error:\n",
    "    \n",
    "    print(\"Tum hatalari burda yakaliyoruz\")\n",
    "    print(error)    \n",
    "except ZeroDivisionError:\n",
    "    print(\"Hata!!! Sifir ile bolme yapilamaz\")\n",
    "    bolen=2\n",
    "except NameError:\n",
    "    print(\"Tanimlanmayan degisken\")\n",
    "except IndexError:\n",
    "    print(\"Hata!! Index Error\")\n",
    "except Exception as error:\n",
    "    \n",
    "    print(\"Tum hatalari burda yakaliyoruz\")\n",
    "    print(error)\n",
    "    \n",
    "#basina except yazarsan, ya da except Exception yazarsan\n",
    "#artik asagidaki spesifik hata kodlarina bakmaz\n"
   ]
  },
  {
   "cell_type": "code",
   "execution_count": null,
   "id": "f3d95ee6-d666-4768-a415-b55c0bb2045f",
   "metadata": {},
   "outputs": [],
   "source": [
    "try:\n",
    "    pass\n",
    "except:\n",
    "    pass\n",
    "finally:\n",
    "    pass"
   ]
  },
  {
   "cell_type": "code",
   "execution_count": 1,
   "id": "5f531294-be9e-49bb-804b-ec8acc35e1c4",
   "metadata": {},
   "outputs": [
    {
     "name": "stdout",
     "output_type": "stream",
     "text": [
      "Tanimlanmayan degisken\n",
      "\n",
      "her durumda calisir\n"
     ]
    }
   ],
   "source": [
    "try:\n",
    "    bolunen=10\n",
    "    bolen=2\n",
    "    bolum=bolunen / bolen\n",
    "    isim[5]\n",
    "    \n",
    "except ZeroDivisionError:\n",
    "    print(\"Hata!!! Sifir ile bolme yapilamaz\")\n",
    "    bolen=2\n",
    "except NameError:\n",
    "    print(\"Tanimlanmayan degisken\")\n",
    "except IndexError:\n",
    "    print(\"Hata!! Index Error\")\n",
    "except:\n",
    "     print(\"Tum hatalari burda yakaliyoruz\")\n",
    "finally:\n",
    "    print()\n",
    "    print(\"her durumda calisir\")\n",
    "#hatayi bulsak da finally calisir    "
   ]
  },
  {
   "cell_type": "code",
   "execution_count": 22,
   "id": "7a30b7fe-107d-4b37-9d5f-3932427c45fc",
   "metadata": {},
   "outputs": [
    {
     "data": {
      "text/plain": [
       "'Ahmet'"
      ]
     },
     "execution_count": 22,
     "metadata": {},
     "output_type": "execute_result"
    }
   ],
   "source": [
    "isim"
   ]
  },
  {
   "cell_type": "code",
   "execution_count": 4,
   "id": "46e4bad0-8746-4819-8ab0-eacb298a8226",
   "metadata": {},
   "outputs": [
    {
     "name": "stdout",
     "output_type": "stream",
     "text": [
      "bolum: 5.0\n",
      "\n",
      "her durumda calisir\n"
     ]
    }
   ],
   "source": [
    "try:\n",
    "    bolunen=10\n",
    "    bolen=2\n",
    "    bolum=bolunen / bolen\n",
    "    print(\"bolum:\", bolum)\n",
    "    \n",
    "    \n",
    "except ZeroDivisionError:\n",
    "    print(\"Hata!!! Sifir ile bolme yapilamaz\")\n",
    "    bolen=2\n",
    "except NameError:\n",
    "    print(\"Tanimlanmayan degisken\")\n",
    "except IndexError:\n",
    "    print(\"Hata!! Index Error\")\n",
    "except:\n",
    "     print(\"Tum hatalari burda yakaliyoruz\")\n",
    "finally:\n",
    "    print()\n",
    "    print(\"her durumda calisir\")\n",
    "#burda bir hata olmadigi halde de finally calisir    "
   ]
  },
  {
   "cell_type": "code",
   "execution_count": null,
   "id": "17bf1f5d-85d2-4783-81ca-77d1101b49a4",
   "metadata": {},
   "outputs": [],
   "source": [
    "try:\n",
    "    pass\n",
    "except:\n",
    "    pass\n",
    "else:\n",
    "    pass\n",
    "finally:\n",
    "    pass    "
   ]
  },
  {
   "cell_type": "code",
   "execution_count": 7,
   "id": "b01ea3b6-116f-438c-b5a4-56d006298a05",
   "metadata": {},
   "outputs": [
    {
     "name": "stdout",
     "output_type": "stream",
     "text": [
      "bolum: 5.0\n",
      "else blogu calisir\n",
      "\n",
      "her durumda calisir\n"
     ]
    }
   ],
   "source": [
    "try:\n",
    "    bolunen=10\n",
    "    bolen=2\n",
    "    bolum=bolunen / bolen\n",
    "    print(\"bolum:\", bolum)\n",
    "    \n",
    "    \n",
    "except ZeroDivisionError:\n",
    "    print(\"Hata!!! Sifir ile bolme yapilamaz\")\n",
    "    bolen=2\n",
    "else: \n",
    "    print(\"else blogu calisir\")\n",
    "    \n",
    "finally:\n",
    "    print()\n",
    "    print(\"her durumda calisir\")"
   ]
  },
  {
   "cell_type": "code",
   "execution_count": null,
   "id": "4eb7de5a-52af-4f52-beb6-3299d316ce82",
   "metadata": {},
   "outputs": [],
   "source": [
    "#else : blogu --> try :  blogu içindeki kodlarda hata çıkmazsa else blogu calisir. \n",
    "#yani kod istendiği gibi çalışıyorsa else calisir"
   ]
  },
  {
   "cell_type": "code",
   "execution_count": 8,
   "id": "36162136-9173-44c2-bf11-4fb7f470107f",
   "metadata": {},
   "outputs": [
    {
     "ename": "Exception",
     "evalue": "Keyfi Hata!!!",
     "output_type": "error",
     "traceback": [
      "\u001b[0;31m---------------------------------------------------------------------------\u001b[0m",
      "\u001b[0;31mException\u001b[0m                                 Traceback (most recent call last)",
      "\u001b[0;32m/var/folders/5z/xb_33d255mq_trf2qys6_r540000gn/T/ipykernel_5976/2497899145.py\u001b[0m in \u001b[0;36m<module>\u001b[0;34m\u001b[0m\n\u001b[0;32m----> 1\u001b[0;31m \u001b[0;32mraise\u001b[0m \u001b[0mException\u001b[0m\u001b[0;34m(\u001b[0m\u001b[0;34m\"Keyfi Hata!!!\"\u001b[0m\u001b[0;34m)\u001b[0m\u001b[0;34m\u001b[0m\u001b[0;34m\u001b[0m\u001b[0m\n\u001b[0m\u001b[1;32m      2\u001b[0m \u001b[0;31m#raise manuel keyfi hata olusturmak icn kullanilir\u001b[0m\u001b[0;34m\u001b[0m\u001b[0;34m\u001b[0m\u001b[0m\n\u001b[1;32m      3\u001b[0m \u001b[0;34m\u001b[0m\u001b[0m\n",
      "\u001b[0;31mException\u001b[0m: Keyfi Hata!!!"
     ]
    }
   ],
   "source": [
    "raise Exception(\"Keyfi Hata!!!\")\n",
    "#raise manuel keyfi hata olusturmak icn kullanilir\n",
    "\n"
   ]
  },
  {
   "cell_type": "code",
   "execution_count": null,
   "id": "16778e1b-e552-43af-aedf-631849fd7634",
   "metadata": {},
   "outputs": [],
   "source": []
  },
  {
   "cell_type": "code",
   "execution_count": 9,
   "id": "b6e872b6-d5ca-4954-a601-80a8deda27e1",
   "metadata": {},
   "outputs": [
    {
     "ename": "IndexError",
     "evalue": "Keyfi Hata!!",
     "output_type": "error",
     "traceback": [
      "\u001b[0;31m---------------------------------------------------------------------------\u001b[0m",
      "\u001b[0;31mIndexError\u001b[0m                                Traceback (most recent call last)",
      "\u001b[0;32m/var/folders/5z/xb_33d255mq_trf2qys6_r540000gn/T/ipykernel_5976/735048063.py\u001b[0m in \u001b[0;36m<module>\u001b[0;34m\u001b[0m\n\u001b[0;32m----> 1\u001b[0;31m \u001b[0;32mraise\u001b[0m \u001b[0mIndexError\u001b[0m\u001b[0;34m(\u001b[0m\u001b[0;34m\"Keyfi Hata!!\"\u001b[0m\u001b[0;34m)\u001b[0m\u001b[0;34m\u001b[0m\u001b[0;34m\u001b[0m\u001b[0m\n\u001b[0m",
      "\u001b[0;31mIndexError\u001b[0m: Keyfi Hata!!"
     ]
    }
   ],
   "source": [
    "raise IndexError(\"Keyfi Hata!!\")"
   ]
  },
  {
   "cell_type": "code",
   "execution_count": 12,
   "id": "d31d597f-8c11-4aa5-83ec-c154ccf542d8",
   "metadata": {},
   "outputs": [],
   "source": [
    "def terscevir(s):\n",
    "    if type(s)!=str:\n",
    "        raise TypeError(\"Lutfen bir string ifade girinizi\")\n",
    "    \n",
    "    else:\n",
    "        return s[::-1]"
   ]
  },
  {
   "cell_type": "code",
   "execution_count": 13,
   "id": "3d4aae6b-a87e-4ae8-839d-3076e9da0620",
   "metadata": {},
   "outputs": [
    {
     "ename": "TypeError",
     "evalue": "Lutfen bir string ifade girinizi",
     "output_type": "error",
     "traceback": [
      "\u001b[0;31m---------------------------------------------------------------------------\u001b[0m",
      "\u001b[0;31mTypeError\u001b[0m                                 Traceback (most recent call last)",
      "\u001b[0;32m/var/folders/5z/xb_33d255mq_trf2qys6_r540000gn/T/ipykernel_5976/1499863396.py\u001b[0m in \u001b[0;36m<module>\u001b[0;34m\u001b[0m\n\u001b[0;32m----> 1\u001b[0;31m \u001b[0mterscevir\u001b[0m\u001b[0;34m(\u001b[0m\u001b[0;36m123\u001b[0m\u001b[0;34m)\u001b[0m\u001b[0;34m\u001b[0m\u001b[0;34m\u001b[0m\u001b[0m\n\u001b[0m",
      "\u001b[0;32m/var/folders/5z/xb_33d255mq_trf2qys6_r540000gn/T/ipykernel_5976/574396986.py\u001b[0m in \u001b[0;36mterscevir\u001b[0;34m(s)\u001b[0m\n\u001b[1;32m      1\u001b[0m \u001b[0;32mdef\u001b[0m \u001b[0mterscevir\u001b[0m\u001b[0;34m(\u001b[0m\u001b[0ms\u001b[0m\u001b[0;34m)\u001b[0m\u001b[0;34m:\u001b[0m\u001b[0;34m\u001b[0m\u001b[0;34m\u001b[0m\u001b[0m\n\u001b[1;32m      2\u001b[0m     \u001b[0;32mif\u001b[0m \u001b[0mtype\u001b[0m\u001b[0;34m(\u001b[0m\u001b[0ms\u001b[0m\u001b[0;34m)\u001b[0m\u001b[0;34m!=\u001b[0m\u001b[0mstr\u001b[0m\u001b[0;34m:\u001b[0m\u001b[0;34m\u001b[0m\u001b[0;34m\u001b[0m\u001b[0m\n\u001b[0;32m----> 3\u001b[0;31m         \u001b[0;32mraise\u001b[0m \u001b[0mTypeError\u001b[0m\u001b[0;34m(\u001b[0m\u001b[0;34m\"Lutfen bir string ifade girinizi\"\u001b[0m\u001b[0;34m)\u001b[0m\u001b[0;34m\u001b[0m\u001b[0;34m\u001b[0m\u001b[0m\n\u001b[0m\u001b[1;32m      4\u001b[0m \u001b[0;34m\u001b[0m\u001b[0m\n\u001b[1;32m      5\u001b[0m     \u001b[0;32melse\u001b[0m\u001b[0;34m:\u001b[0m\u001b[0;34m\u001b[0m\u001b[0;34m\u001b[0m\u001b[0m\n",
      "\u001b[0;31mTypeError\u001b[0m: Lutfen bir string ifade girinizi"
     ]
    }
   ],
   "source": [
    "terscevir(123)"
   ]
  },
  {
   "cell_type": "code",
   "execution_count": 14,
   "id": "37fc2b34-3d70-4742-bf38-b59f0d224d7f",
   "metadata": {},
   "outputs": [
    {
     "ename": "TypeError",
     "evalue": "Lutfen bir string ifade girinizi",
     "output_type": "error",
     "traceback": [
      "\u001b[0;31m---------------------------------------------------------------------------\u001b[0m",
      "\u001b[0;31mTypeError\u001b[0m                                 Traceback (most recent call last)",
      "\u001b[0;32m/var/folders/5z/xb_33d255mq_trf2qys6_r540000gn/T/ipykernel_5976/3904644733.py\u001b[0m in \u001b[0;36m<module>\u001b[0;34m\u001b[0m\n\u001b[0;32m----> 1\u001b[0;31m \u001b[0mterscevir\u001b[0m\u001b[0;34m(\u001b[0m\u001b[0;34m[\u001b[0m\u001b[0;36m1\u001b[0m\u001b[0;34m,\u001b[0m\u001b[0;36m2\u001b[0m\u001b[0;34m,\u001b[0m\u001b[0;36m3\u001b[0m\u001b[0;34m]\u001b[0m\u001b[0;34m)\u001b[0m\u001b[0;34m\u001b[0m\u001b[0;34m\u001b[0m\u001b[0m\n\u001b[0m",
      "\u001b[0;32m/var/folders/5z/xb_33d255mq_trf2qys6_r540000gn/T/ipykernel_5976/574396986.py\u001b[0m in \u001b[0;36mterscevir\u001b[0;34m(s)\u001b[0m\n\u001b[1;32m      1\u001b[0m \u001b[0;32mdef\u001b[0m \u001b[0mterscevir\u001b[0m\u001b[0;34m(\u001b[0m\u001b[0ms\u001b[0m\u001b[0;34m)\u001b[0m\u001b[0;34m:\u001b[0m\u001b[0;34m\u001b[0m\u001b[0;34m\u001b[0m\u001b[0m\n\u001b[1;32m      2\u001b[0m     \u001b[0;32mif\u001b[0m \u001b[0mtype\u001b[0m\u001b[0;34m(\u001b[0m\u001b[0ms\u001b[0m\u001b[0;34m)\u001b[0m\u001b[0;34m!=\u001b[0m\u001b[0mstr\u001b[0m\u001b[0;34m:\u001b[0m\u001b[0;34m\u001b[0m\u001b[0;34m\u001b[0m\u001b[0m\n\u001b[0;32m----> 3\u001b[0;31m         \u001b[0;32mraise\u001b[0m \u001b[0mTypeError\u001b[0m\u001b[0;34m(\u001b[0m\u001b[0;34m\"Lutfen bir string ifade girinizi\"\u001b[0m\u001b[0;34m)\u001b[0m\u001b[0;34m\u001b[0m\u001b[0;34m\u001b[0m\u001b[0m\n\u001b[0m\u001b[1;32m      4\u001b[0m \u001b[0;34m\u001b[0m\u001b[0m\n\u001b[1;32m      5\u001b[0m     \u001b[0;32melse\u001b[0m\u001b[0;34m:\u001b[0m\u001b[0;34m\u001b[0m\u001b[0;34m\u001b[0m\u001b[0m\n",
      "\u001b[0;31mTypeError\u001b[0m: Lutfen bir string ifade girinizi"
     ]
    }
   ],
   "source": [
    "terscevir([1,2,3])"
   ]
  },
  {
   "cell_type": "code",
   "execution_count": 17,
   "id": "800bd57f-021b-4aa2-b043-f8ddd0a2c969",
   "metadata": {},
   "outputs": [],
   "source": [
    "def terscevir(s):\n",
    "    if type(s)!=str:\n",
    "        try:\n",
    "            return s[::-1]\n",
    "        except:    \n",
    "            print(\"Lutfen bir string ifade giriniz\")\n",
    "    \n",
    "    else:\n",
    "        return s[::-1]\n",
    "    \n",
    "#bu benim zorlama cozumum   "
   ]
  },
  {
   "cell_type": "code",
   "execution_count": 18,
   "id": "46521393-baae-44a5-a2d2-b66204980bb1",
   "metadata": {},
   "outputs": [
    {
     "data": {
      "text/plain": [
       "[3, 2, 1]"
      ]
     },
     "execution_count": 18,
     "metadata": {},
     "output_type": "execute_result"
    }
   ],
   "source": [
    "terscevir([1,2,3])"
   ]
  },
  {
   "cell_type": "code",
   "execution_count": null,
   "id": "a1e96381-defb-47c0-a3fe-d5a3be229912",
   "metadata": {},
   "outputs": [],
   "source": [
    "def terscevir(s):\n",
    "        try:\n",
    "            return s[::-1]\n",
    "        except Exception as e:    \n",
    "            print(\"Lutfen bir string ifade giriniz\")"
   ]
  },
  {
   "cell_type": "code",
   "execution_count": 19,
   "id": "c60da700-0bd3-458f-9c6c-3944de9ac446",
   "metadata": {},
   "outputs": [
    {
     "name": "stdout",
     "output_type": "stream",
     "text": [
      "Lutfen bir string ifade giriniz\n"
     ]
    }
   ],
   "source": [
    "terscevir(222)"
   ]
  },
  {
   "cell_type": "code",
   "execution_count": 20,
   "id": "dc8fde5d-eeac-45d6-beba-00d53f3c0c89",
   "metadata": {},
   "outputs": [
    {
     "name": "stdout",
     "output_type": "stream",
     "text": [
      "Hayir\n"
     ]
    }
   ],
   "source": [
    "bool=False\n",
    "if bool:\n",
    "    raise Exception(\"Evet\")\n",
    "else:\n",
    "    print(\"Hayir\")"
   ]
  },
  {
   "cell_type": "code",
   "execution_count": 27,
   "id": "3dcb697d-0222-4346-a9ee-4971332270a7",
   "metadata": {},
   "outputs": [],
   "source": [
    "#yasakli kelimeler var listede diyelim\n",
    "#input'da bu yasakli kelimeler varsa program hata versin\n",
    "yasakli_kelime_listesi=[\"kotu\", \"cirkin\", \"berbat\"]\n",
    "def temizle(s):\n",
    "    for kelime in yasakli_kelime_listesi:\n",
    "        if kelime in s.lower():\n",
    "            raise Exception(\"Kelime Yasakli\")\n",
    "    return s     "
   ]
  },
  {
   "cell_type": "code",
   "execution_count": 22,
   "id": "c5e71178-6524-4337-aca7-e260083a3c1c",
   "metadata": {},
   "outputs": [
    {
     "data": {
      "text/plain": [
       "'hayat cok guzel'"
      ]
     },
     "execution_count": 22,
     "metadata": {},
     "output_type": "execute_result"
    }
   ],
   "source": [
    "temizle(\"hayat cok guzel\")"
   ]
  },
  {
   "cell_type": "code",
   "execution_count": 28,
   "id": "8bfe6e3d-c92f-4b07-b59a-019fdbdce44c",
   "metadata": {},
   "outputs": [
    {
     "ename": "Exception",
     "evalue": "Kelime Yasakli",
     "output_type": "error",
     "traceback": [
      "\u001b[0;31m---------------------------------------------------------------------------\u001b[0m",
      "\u001b[0;31mException\u001b[0m                                 Traceback (most recent call last)",
      "\u001b[0;32m/var/folders/5z/xb_33d255mq_trf2qys6_r540000gn/T/ipykernel_5976/2540987030.py\u001b[0m in \u001b[0;36m<module>\u001b[0;34m\u001b[0m\n\u001b[0;32m----> 1\u001b[0;31m \u001b[0mtemizle\u001b[0m\u001b[0;34m(\u001b[0m\u001b[0;34m\"hayat berbat\"\u001b[0m\u001b[0;34m)\u001b[0m\u001b[0;34m\u001b[0m\u001b[0;34m\u001b[0m\u001b[0m\n\u001b[0m",
      "\u001b[0;32m/var/folders/5z/xb_33d255mq_trf2qys6_r540000gn/T/ipykernel_5976/1597885867.py\u001b[0m in \u001b[0;36mtemizle\u001b[0;34m(s)\u001b[0m\n\u001b[1;32m      5\u001b[0m     \u001b[0;32mfor\u001b[0m \u001b[0mkelime\u001b[0m \u001b[0;32min\u001b[0m \u001b[0myasakli_kelime_listesi\u001b[0m\u001b[0;34m:\u001b[0m\u001b[0;34m\u001b[0m\u001b[0;34m\u001b[0m\u001b[0m\n\u001b[1;32m      6\u001b[0m         \u001b[0;32mif\u001b[0m \u001b[0mkelime\u001b[0m \u001b[0;32min\u001b[0m \u001b[0ms\u001b[0m\u001b[0;34m.\u001b[0m\u001b[0mlower\u001b[0m\u001b[0;34m(\u001b[0m\u001b[0;34m)\u001b[0m\u001b[0;34m:\u001b[0m\u001b[0;34m\u001b[0m\u001b[0;34m\u001b[0m\u001b[0m\n\u001b[0;32m----> 7\u001b[0;31m             \u001b[0;32mraise\u001b[0m \u001b[0mException\u001b[0m\u001b[0;34m(\u001b[0m\u001b[0;34m\"Kelime Yasakli\"\u001b[0m\u001b[0;34m)\u001b[0m\u001b[0;34m\u001b[0m\u001b[0;34m\u001b[0m\u001b[0m\n\u001b[0m\u001b[1;32m      8\u001b[0m     \u001b[0;32mreturn\u001b[0m \u001b[0ms\u001b[0m\u001b[0;34m\u001b[0m\u001b[0;34m\u001b[0m\u001b[0m\n",
      "\u001b[0;31mException\u001b[0m: Kelime Yasakli"
     ]
    }
   ],
   "source": [
    "temizle(\"hayat berbat\")"
   ]
  },
  {
   "cell_type": "code",
   "execution_count": 29,
   "id": "a508a1b9-9711-4dec-906e-280ea68b6b04",
   "metadata": {},
   "outputs": [
    {
     "ename": "Exception",
     "evalue": "Kelime Yasakli",
     "output_type": "error",
     "traceback": [
      "\u001b[0;31m---------------------------------------------------------------------------\u001b[0m",
      "\u001b[0;31mException\u001b[0m                                 Traceback (most recent call last)",
      "\u001b[0;32m/var/folders/5z/xb_33d255mq_trf2qys6_r540000gn/T/ipykernel_5976/1441633862.py\u001b[0m in \u001b[0;36m<module>\u001b[0;34m\u001b[0m\n\u001b[0;32m----> 1\u001b[0;31m \u001b[0mtemizle\u001b[0m\u001b[0;34m(\u001b[0m\u001b[0;34m\"hayat Berbat\"\u001b[0m\u001b[0;34m)\u001b[0m\u001b[0;34m\u001b[0m\u001b[0;34m\u001b[0m\u001b[0m\n\u001b[0m\u001b[1;32m      2\u001b[0m \u001b[0;31m#buyuk harfle yazinca hatayi yakalayamadi\u001b[0m\u001b[0;34m\u001b[0m\u001b[0;34m\u001b[0m\u001b[0m\n",
      "\u001b[0;32m/var/folders/5z/xb_33d255mq_trf2qys6_r540000gn/T/ipykernel_5976/1597885867.py\u001b[0m in \u001b[0;36mtemizle\u001b[0;34m(s)\u001b[0m\n\u001b[1;32m      5\u001b[0m     \u001b[0;32mfor\u001b[0m \u001b[0mkelime\u001b[0m \u001b[0;32min\u001b[0m \u001b[0myasakli_kelime_listesi\u001b[0m\u001b[0;34m:\u001b[0m\u001b[0;34m\u001b[0m\u001b[0;34m\u001b[0m\u001b[0m\n\u001b[1;32m      6\u001b[0m         \u001b[0;32mif\u001b[0m \u001b[0mkelime\u001b[0m \u001b[0;32min\u001b[0m \u001b[0ms\u001b[0m\u001b[0;34m.\u001b[0m\u001b[0mlower\u001b[0m\u001b[0;34m(\u001b[0m\u001b[0;34m)\u001b[0m\u001b[0;34m:\u001b[0m\u001b[0;34m\u001b[0m\u001b[0;34m\u001b[0m\u001b[0m\n\u001b[0;32m----> 7\u001b[0;31m             \u001b[0;32mraise\u001b[0m \u001b[0mException\u001b[0m\u001b[0;34m(\u001b[0m\u001b[0;34m\"Kelime Yasakli\"\u001b[0m\u001b[0;34m)\u001b[0m\u001b[0;34m\u001b[0m\u001b[0;34m\u001b[0m\u001b[0m\n\u001b[0m\u001b[1;32m      8\u001b[0m     \u001b[0;32mreturn\u001b[0m \u001b[0ms\u001b[0m\u001b[0;34m\u001b[0m\u001b[0;34m\u001b[0m\u001b[0m\n",
      "\u001b[0;31mException\u001b[0m: Kelime Yasakli"
     ]
    }
   ],
   "source": [
    "temizle(\"hayat Berbat\")\n",
    "#buyuk harfle yazinca hatayi yakalayamadi. \n",
    "#o yuzden yukardaki kod blogunu s.lower() seklinde duzelttim"
   ]
  },
  {
   "cell_type": "code",
   "execution_count": 29,
   "id": "319db7e9-2b5c-4e6e-af33-c9411a32919a",
   "metadata": {},
   "outputs": [
    {
     "ename": "Exception",
     "evalue": "Kelime Yasakli",
     "output_type": "error",
     "traceback": [
      "\u001b[0;31m---------------------------------------------------------------------------\u001b[0m",
      "\u001b[0;31mException\u001b[0m                                 Traceback (most recent call last)",
      "\u001b[0;32m/var/folders/5z/xb_33d255mq_trf2qys6_r540000gn/T/ipykernel_5976/1441633862.py\u001b[0m in \u001b[0;36m<module>\u001b[0;34m\u001b[0m\n\u001b[0;32m----> 1\u001b[0;31m \u001b[0mtemizle\u001b[0m\u001b[0;34m(\u001b[0m\u001b[0;34m\"hayat Berbat\"\u001b[0m\u001b[0;34m)\u001b[0m\u001b[0;34m\u001b[0m\u001b[0;34m\u001b[0m\u001b[0m\n\u001b[0m\u001b[1;32m      2\u001b[0m \u001b[0;31m#buyuk harfle yazinca hatayi yakalayamadi\u001b[0m\u001b[0;34m\u001b[0m\u001b[0;34m\u001b[0m\u001b[0m\n",
      "\u001b[0;32m/var/folders/5z/xb_33d255mq_trf2qys6_r540000gn/T/ipykernel_5976/1597885867.py\u001b[0m in \u001b[0;36mtemizle\u001b[0;34m(s)\u001b[0m\n\u001b[1;32m      5\u001b[0m     \u001b[0;32mfor\u001b[0m \u001b[0mkelime\u001b[0m \u001b[0;32min\u001b[0m \u001b[0myasakli_kelime_listesi\u001b[0m\u001b[0;34m:\u001b[0m\u001b[0;34m\u001b[0m\u001b[0;34m\u001b[0m\u001b[0m\n\u001b[1;32m      6\u001b[0m         \u001b[0;32mif\u001b[0m \u001b[0mkelime\u001b[0m \u001b[0;32min\u001b[0m \u001b[0ms\u001b[0m\u001b[0;34m.\u001b[0m\u001b[0mlower\u001b[0m\u001b[0;34m(\u001b[0m\u001b[0;34m)\u001b[0m\u001b[0;34m:\u001b[0m\u001b[0;34m\u001b[0m\u001b[0;34m\u001b[0m\u001b[0m\n\u001b[0;32m----> 7\u001b[0;31m             \u001b[0;32mraise\u001b[0m \u001b[0mException\u001b[0m\u001b[0;34m(\u001b[0m\u001b[0;34m\"Kelime Yasakli\"\u001b[0m\u001b[0;34m)\u001b[0m\u001b[0;34m\u001b[0m\u001b[0;34m\u001b[0m\u001b[0m\n\u001b[0m\u001b[1;32m      8\u001b[0m     \u001b[0;32mreturn\u001b[0m \u001b[0ms\u001b[0m\u001b[0;34m\u001b[0m\u001b[0;34m\u001b[0m\u001b[0m\n",
      "\u001b[0;31mException\u001b[0m: Kelime Yasakli"
     ]
    }
   ],
   "source": [
    "temizle(\"hayat Berbat\")\n",
    "#buyuk harfle yazinca hatayi yakalayamadi. o yuzden yukardaki"
   ]
  },
  {
   "cell_type": "code",
   "execution_count": null,
   "id": "523a8a0d-e9ca-4cf7-b0ef-3a7c879c3e2e",
   "metadata": {},
   "outputs": [],
   "source": [
    "#buyuk harfi atlamamasi icin\n",
    "#datayi alinca hepsini upper ya da lower yapiyoruz\n"
   ]
  },
  {
   "cell_type": "code",
   "execution_count": 30,
   "id": "f2b85a21-320c-4271-925f-944b00618666",
   "metadata": {},
   "outputs": [],
   "source": [
    "yasakli_kelime_listesi = [\"kotu\",\"cirkin\",\"berbat\"]\n",
    "def temizle(s):\n",
    "    for kelime in yasakli_kelime_listesi:\n",
    "        if kelime in s.lower():                  ## to make sure function takes upper and lower case letters\n",
    "            raise Exception(\"kelime yasakli!!\")\n",
    "    return s"
   ]
  },
  {
   "cell_type": "code",
   "execution_count": 31,
   "id": "03e7b0fc-6235-40d6-bf41-e135513c8e6a",
   "metadata": {},
   "outputs": [
    {
     "name": "stdout",
     "output_type": "stream",
     "text": [
      "kelime yasakli!!\n"
     ]
    }
   ],
   "source": [
    "try:\n",
    "    temizle(\"hayat Berbat\")\n",
    "except Exception as e:\n",
    "    print(e)\n",
    "    \n",
    "#temizle() fonksiyonunu calistirdigimizda bir hata alirsak onun hata mesajini yazdir dedik bana gore?.\n",
    "#temizle() fonksiyonunun icindeki hata mesajini yazdirmis oldu    "
   ]
  },
  {
   "cell_type": "code",
   "execution_count": null,
   "id": "92623afa-1608-456d-8808-4df7872ee96e",
   "metadata": {},
   "outputs": [],
   "source": [
    "Exception - genel kurallara tabi tutmak\n",
    "Raise - kurallari manipule edip yeni kurallara gore kontrol etmek"
   ]
  }
 ],
 "metadata": {
  "kernelspec": {
   "display_name": "Python 3 (ipykernel)",
   "language": "python",
   "name": "python3"
  },
  "language_info": {
   "codemirror_mode": {
    "name": "ipython",
    "version": 3
   },
   "file_extension": ".py",
   "mimetype": "text/x-python",
   "name": "python",
   "nbconvert_exporter": "python",
   "pygments_lexer": "ipython3",
   "version": "3.9.13"
  }
 },
 "nbformat": 4,
 "nbformat_minor": 5
}
