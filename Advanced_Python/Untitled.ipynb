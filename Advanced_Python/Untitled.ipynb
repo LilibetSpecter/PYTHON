{
 "cells": [
  {
   "cell_type": "code",
   "execution_count": null,
   "id": "c362e526-7606-4f5e-85c0-61af4629240f",
   "metadata": {},
   "outputs": [],
   "source": []
  },
  {
   "cell_type": "code",
   "execution_count": null,
   "id": "eae085ae-a06a-47c8-9e3d-9563254c35ed",
   "metadata": {},
   "outputs": [],
   "source": []
  },
  {
   "cell_type": "code",
   "execution_count": null,
   "id": "199116db-1174-4040-91c0-63fe05b52457",
   "metadata": {},
   "outputs": [],
   "source": []
  },
  {
   "cell_type": "code",
   "execution_count": null,
   "id": "39dcb0a5-4189-40db-ad1c-67366f0273f1",
   "metadata": {},
   "outputs": [],
   "source": []
  },
  {
   "cell_type": "code",
   "execution_count": null,
   "id": "91228a4d-dd7a-4d23-a252-fb5e57317cfd",
   "metadata": {},
   "outputs": [],
   "source": []
  },
  {
   "cell_type": "code",
   "execution_count": null,
   "id": "b16e7012-2df7-4691-bfb4-806f85590cff",
   "metadata": {},
   "outputs": [],
   "source": []
  },
  {
   "cell_type": "code",
   "execution_count": null,
   "id": "3c2e5a1e-642f-4f41-a502-702281c2aae0",
   "metadata": {},
   "outputs": [],
   "source": []
  },
  {
   "cell_type": "code",
   "execution_count": null,
   "id": "7c8011b3-c2dd-44b3-942b-93a6692e69fe",
   "metadata": {},
   "outputs": [],
   "source": []
  },
  {
   "cell_type": "code",
   "execution_count": 4,
   "id": "1708d7ca-2385-428e-94c4-30d26e4925f1",
   "metadata": {},
   "outputs": [
    {
     "name": "stdout",
     "output_type": "stream",
     "text": [
      "<__main__.Person object at 0x7fcb252b4910>\n",
      "<__main__.Person object at 0x7fcb25209d90>\n"
     ]
    }
   ],
   "source": [
    "class Person:\n",
    "    pass\n",
    "\n",
    "p1=Person()\n",
    "print(p1)\n",
    "p2=Person()\n",
    "print(p2)\n",
    "p3=Person()\n",
    "\n",
    "#p1 ve p2 diye 2 tane instance tanimliyorum Person classi icin\n",
    "#class olusturduktan sonra class'a ozellikler eklemeye bas;iyorum\n",
    "#bir tane class'tan 2 tane instance urettik\n",
    "#sonra bu instance'lara ozellikler atayacagim asagidaki gibi\n",
    "#pass class tanimlarken, hata vermesini engellemek icin yazdigim bir sey\n",
    "#p3 diye bir instance daha urettim ama buna bir ozellik eklemiyorum mesela"
   ]
  },
  {
   "cell_type": "code",
   "execution_count": null,
   "id": "723c92bd-32c5-4d9d-b089-b51cada8fe9c",
   "metadata": {},
   "outputs": [],
   "source": []
  },
  {
   "cell_type": "code",
   "execution_count": null,
   "id": "e68fcb08-ee82-4272-8a4b-71d431cb8879",
   "metadata": {},
   "outputs": [],
   "source": []
  },
  {
   "cell_type": "code",
   "execution_count": 5,
   "id": "2a9249ba-bbf7-437b-993e-04438b4b66bf",
   "metadata": {},
   "outputs": [],
   "source": [
    "p1.name=\"Ahmet\"\n",
    "p1.surname=\"Yilmaz\"\n",
    "p1.age=25\n",
    "p1.job=\"Engineer\""
   ]
  },
  {
   "cell_type": "code",
   "execution_count": 6,
   "id": "c36e6b2e-3bd6-407a-a527-b69943e85fa5",
   "metadata": {},
   "outputs": [],
   "source": [
    "p2=Person()\n",
    "p2.name=\"Mehmet\"\n",
    "p2.surname=\"Yilmaz\"\n",
    "p2.age=30\n",
    "p2.job=\"Teacher\"\n",
    "p2.country=\"Turkiye\"\n",
    "\n",
    "#p2 instance'ina 5 ozellik verdik"
   ]
  },
  {
   "cell_type": "code",
   "execution_count": 7,
   "id": "dce19eda-8cad-4819-aea9-b4e8cdf0a966",
   "metadata": {},
   "outputs": [
    {
     "name": "stdout",
     "output_type": "stream",
     "text": [
      "Ahmet Yilmaz 25 Engineer\n"
     ]
    }
   ],
   "source": [
    "#simdi bunlara bir erisim olusturalim\n",
    "print(p1.name, p1.surname, p1.age, p1.job)\n",
    "#p1 instance'inin name'ine ulasiyorum mesela"
   ]
  },
  {
   "cell_type": "code",
   "execution_count": 8,
   "id": "3630bd03-0212-4987-a26e-b24472931f24",
   "metadata": {},
   "outputs": [
    {
     "data": {
      "text/plain": [
       "'Ahmet'"
      ]
     },
     "execution_count": 8,
     "metadata": {},
     "output_type": "execute_result"
    }
   ],
   "source": [
    "p1.name"
   ]
  },
  {
   "cell_type": "code",
   "execution_count": 9,
   "id": "cb942c54-21ce-4603-a710-c4ddd832847b",
   "metadata": {},
   "outputs": [
    {
     "data": {
      "text/plain": [
       "str"
      ]
     },
     "execution_count": 9,
     "metadata": {},
     "output_type": "execute_result"
    }
   ],
   "source": [
    "type(p1.name)"
   ]
  },
  {
   "cell_type": "code",
   "execution_count": 11,
   "id": "62a8b57d-a307-4f12-8b0f-15fc139a3a47",
   "metadata": {},
   "outputs": [
    {
     "name": "stdout",
     "output_type": "stream",
     "text": [
      "Mehmet Yilmaz Turkiye\n"
     ]
    }
   ],
   "source": [
    "print(p2.name, p2.surname, p2.country)\n",
    "#"
   ]
  },
  {
   "cell_type": "code",
   "execution_count": 12,
   "id": "8853b7f1-9d0e-4d55-90c0-62f1bcfe671d",
   "metadata": {},
   "outputs": [],
   "source": [
    "class Person:\n",
    "    def __init__(self):\n",
    "        self.name= \"No name\"\n",
    "        self.surname= \"No Surname\"\n",
    "        self.age= \"No age\"\n",
    "        self.job= \"No job\"\n",
    "\n",
    "#class'lara ozel bir fonksiyon. init\n",
    "#initialize'dan geliyor\n",
    "#yapici constructive bir func bu init\n",
    "#class'i cagirinca calismaya baslayacak\n"
   ]
  },
  {
   "cell_type": "code",
   "execution_count": 14,
   "id": "ba72e985-5f6e-42dc-9d00-66b395670e8b",
   "metadata": {},
   "outputs": [],
   "source": [
    "p1=Person()"
   ]
  },
  {
   "cell_type": "code",
   "execution_count": null,
   "id": "41d0f315-99f5-45e8-a76e-c1944c108f4e",
   "metadata": {},
   "outputs": [],
   "source": [
    "p1.name, p1.surname, p1.age, p1.job\n",
    "\n",
    "#class'i calistirdigim zaman instance olusuyor ya\n",
    "#aslinda burdaki self de p1 instance burda"
   ]
  },
  {
   "cell_type": "code",
   "execution_count": 15,
   "id": "37d1a7d5-250c-4112-88ca-ffc6c6f6e0a3",
   "metadata": {},
   "outputs": [
    {
     "name": "stdout",
     "output_type": "stream",
     "text": [
      "No name\n",
      "No Surname\n"
     ]
    }
   ],
   "source": [
    "print(p1.name)\n",
    "print(p1.surname)"
   ]
  },
  {
   "cell_type": "code",
   "execution_count": null,
   "id": "a9a9e943-d1e0-4464-a8d5-12cb089ffb68",
   "metadata": {},
   "outputs": [],
   "source": [
    "class Person:\n",
    "    def __init__(kendim):\n",
    "        kendim.name= \"No name\"\n",
    "        kendim.surname= \"No Surname\"\n",
    "        kendim.age= \"No age\"\n",
    "        kendim.job= \"No job\""
   ]
  },
  {
   "cell_type": "code",
   "execution_count": 18,
   "id": "76ef0431-b097-481c-9a5c-76e433baf818",
   "metadata": {},
   "outputs": [
    {
     "ename": "TypeError",
     "evalue": "__init__() takes 1 positional argument but 5 were given",
     "output_type": "error",
     "traceback": [
      "\u001b[0;31m---------------------------------------------------------------------------\u001b[0m",
      "\u001b[0;31mTypeError\u001b[0m                                 Traceback (most recent call last)",
      "\u001b[0;32m/var/folders/5z/xb_33d255mq_trf2qys6_r540000gn/T/ipykernel_22819/2013326143.py\u001b[0m in \u001b[0;36m<module>\u001b[0;34m\u001b[0m\n\u001b[0;32m----> 1\u001b[0;31m \u001b[0mp1\u001b[0m\u001b[0;34m=\u001b[0m\u001b[0mPerson\u001b[0m\u001b[0;34m(\u001b[0m\u001b[0;34m\"Ali\"\u001b[0m\u001b[0;34m,\u001b[0m \u001b[0;34m\"Veli\"\u001b[0m\u001b[0;34m,\u001b[0m \u001b[0;34m\"30\"\u001b[0m\u001b[0;34m,\u001b[0m \u001b[0;34m\"IT\"\u001b[0m\u001b[0;34m)\u001b[0m\u001b[0;34m\u001b[0m\u001b[0;34m\u001b[0m\u001b[0m\n\u001b[0m\u001b[1;32m      2\u001b[0m \u001b[0;31m#p1 self instance'in kendisi\u001b[0m\u001b[0;34m\u001b[0m\u001b[0;34m\u001b[0m\u001b[0m\n",
      "\u001b[0;31mTypeError\u001b[0m: __init__() takes 1 positional argument but 5 were given"
     ]
    }
   ],
   "source": [
    "p1=Person(\"Ali\", \"Veli\", \"30\", \"IT\")\n",
    "#p1 self instance'in kendisi"
   ]
  },
  {
   "cell_type": "code",
   "execution_count": null,
   "id": "612a7d47-fd4c-4e14-869c-e41a5d034d82",
   "metadata": {},
   "outputs": [],
   "source": [
    "print(p1.name)\n",
    "print(p1.surname)\n",
    "print(p1.age)\n",
    "print(p1.job)  \n",
    "      \n",
    "#p1 instance'nin name attribute'unun degeri Ali olarak geliyor\n",
    "      "
   ]
  },
  {
   "cell_type": "code",
   "execution_count": 20,
   "id": "6f083700-0e73-4eba-b3aa-8f1ca66a5732",
   "metadata": {},
   "outputs": [
    {
     "ename": "TypeError",
     "evalue": "__init__() takes 1 positional argument but 5 were given",
     "output_type": "error",
     "traceback": [
      "\u001b[0;31m---------------------------------------------------------------------------\u001b[0m",
      "\u001b[0;31mTypeError\u001b[0m                                 Traceback (most recent call last)",
      "\u001b[0;32m/var/folders/5z/xb_33d255mq_trf2qys6_r540000gn/T/ipykernel_22819/786079116.py\u001b[0m in \u001b[0;36m<module>\u001b[0;34m\u001b[0m\n\u001b[0;32m----> 1\u001b[0;31m \u001b[0mp2\u001b[0m\u001b[0;34m=\u001b[0m\u001b[0mPerson\u001b[0m\u001b[0;34m(\u001b[0m\u001b[0;36m10\u001b[0m\u001b[0;34m,\u001b[0m\u001b[0;36m20\u001b[0m\u001b[0;34m,\u001b[0m\u001b[0;34m\"serdar\"\u001b[0m\u001b[0;34m,\u001b[0m \u001b[0;36m100\u001b[0m\u001b[0;34m)\u001b[0m\u001b[0;34m\u001b[0m\u001b[0;34m\u001b[0m\u001b[0m\n\u001b[0m",
      "\u001b[0;31mTypeError\u001b[0m: __init__() takes 1 positional argument but 5 were given"
     ]
    }
   ],
   "source": [
    "p2=Person(10,20,\"serdar\", 100)"
   ]
  },
  {
   "cell_type": "code",
   "execution_count": 19,
   "id": "6251e349-5be6-42d2-9805-344d4284ae25",
   "metadata": {},
   "outputs": [
    {
     "data": {
      "text/plain": [
       "'Mehmet'"
      ]
     },
     "execution_count": 19,
     "metadata": {},
     "output_type": "execute_result"
    }
   ],
   "source": [
    "p2.name"
   ]
  },
  {
   "cell_type": "code",
   "execution_count": 21,
   "id": "3cdd9028-fd22-432e-bca0-9b8b58410ce8",
   "metadata": {},
   "outputs": [
    {
     "data": {
      "text/plain": [
       "4"
      ]
     },
     "execution_count": 21,
     "metadata": {},
     "output_type": "execute_result"
    }
   ],
   "source": [
    "def toplam(x,y):\n",
    "    return x+y\n",
    "\n",
    "toplam(2,2)"
   ]
  },
  {
   "cell_type": "code",
   "execution_count": 22,
   "id": "ee13d398-e13b-4797-8623-80b7f6cc8722",
   "metadata": {},
   "outputs": [],
   "source": [
    "class Person:\n",
    "    def __init__(self,a,b,c,d):\n",
    "        self.name = name\n",
    "        self.surname = surname\n",
    "        self.age = age\n",
    "        self.job =job"
   ]
  },
  {
   "cell_type": "code",
   "execution_count": 23,
   "id": "3dcd4a2e-0047-40de-afdc-2f008ff4a7f0",
   "metadata": {},
   "outputs": [],
   "source": [
    "class Person:\n",
    "    def __init__(self,a,b,c,d):\n",
    "        self.name = a\n",
    "        self.surname = b\n",
    "        self.age = c\n",
    "        self.job =d"
   ]
  },
  {
   "cell_type": "code",
   "execution_count": 25,
   "id": "1b356a43-67fd-4d6a-9cc3-d3be6a235f70",
   "metadata": {},
   "outputs": [],
   "source": [
    "p3=Person(\"Ali\", \"Veli\", 30, [\"Yazilimci\", \"Pazarlamaci\", \"Teacher\"])"
   ]
  },
  {
   "cell_type": "code",
   "execution_count": 26,
   "id": "a99e9ee8-9f14-4de8-8ab6-c2818dd5c03f",
   "metadata": {},
   "outputs": [
    {
     "data": {
      "text/plain": [
       "['Yazilimci', 'Pazarlamaci', 'Teacher']"
      ]
     },
     "execution_count": 26,
     "metadata": {},
     "output_type": "execute_result"
    }
   ],
   "source": [
    "p3.job"
   ]
  },
  {
   "cell_type": "code",
   "execution_count": null,
   "id": "b21be9e2-0788-40b3-bcb1-0b8338baa3d3",
   "metadata": {},
   "outputs": [],
   "source": [
    "#class tanimladik\n",
    "#class'tan instance olusturduk\n",
    "#instance'larin ozelliklerini belirledik\n",
    "#bir de method tanimlayalim\n",
    "#class yapisina ozel bir seydi __init__\n",
    "#simdi de custom kendimizi bir fonk tanimlayalim."
   ]
  },
  {
   "cell_type": "code",
   "execution_count": 32,
   "id": "61fa0b19-a989-4ef1-8aa0-4432ce40d3c8",
   "metadata": {},
   "outputs": [],
   "source": [
    "class Person:\n",
    "    def __init__(self,a,b,c,d):\n",
    "        self.name = name\n",
    "        self.surname = surname\n",
    "        self.age = age\n",
    "        self.job =job\n",
    "        \n",
    "#instance attribute'lari name, surname, age, job idi\n",
    "\n",
    "    def fullname(self):\n",
    "        return f\"isim: {self.name} soyisim: {self.surname}\"\n",
    "\n",
    "#"
   ]
  },
  {
   "cell_type": "code",
   "execution_count": 40,
   "id": "acd17635-3da9-49cd-a3b9-a28ce3e784ea",
   "metadata": {},
   "outputs": [
    {
     "ename": "NameError",
     "evalue": "name 'name' is not defined",
     "output_type": "error",
     "traceback": [
      "\u001b[0;31m---------------------------------------------------------------------------\u001b[0m",
      "\u001b[0;31mNameError\u001b[0m                                 Traceback (most recent call last)",
      "\u001b[0;32m/var/folders/5z/xb_33d255mq_trf2qys6_r540000gn/T/ipykernel_22819/3646058842.py\u001b[0m in \u001b[0;36m<module>\u001b[0;34m\u001b[0m\n\u001b[0;32m----> 1\u001b[0;31m \u001b[0mp1\u001b[0m\u001b[0;34m=\u001b[0m\u001b[0mPerson\u001b[0m\u001b[0;34m(\u001b[0m\u001b[0;34m\"Ali\"\u001b[0m\u001b[0;34m,\u001b[0m \u001b[0;34m\"Veli\"\u001b[0m\u001b[0;34m,\u001b[0m \u001b[0;36m30\u001b[0m\u001b[0;34m,\u001b[0m \u001b[0;34m\"Ogretmen\"\u001b[0m\u001b[0;34m)\u001b[0m\u001b[0;34m\u001b[0m\u001b[0;34m\u001b[0m\u001b[0m\n\u001b[0m\u001b[1;32m      2\u001b[0m \u001b[0;31m#classi boyle cagiriyorum\u001b[0m\u001b[0;34m\u001b[0m\u001b[0;34m\u001b[0m\u001b[0m\n\u001b[1;32m      3\u001b[0m \u001b[0;31m#cagirinca init func calismaya basliyor\u001b[0m\u001b[0;34m\u001b[0m\u001b[0;34m\u001b[0m\u001b[0m\n\u001b[1;32m      4\u001b[0m \u001b[0mprint\u001b[0m\u001b[0;34m(\u001b[0m\u001b[0mp1\u001b[0m\u001b[0;34m.\u001b[0m\u001b[0mfullname\u001b[0m\u001b[0;34m(\u001b[0m\u001b[0;34m)\u001b[0m\u001b[0;34m)\u001b[0m\u001b[0;34m\u001b[0m\u001b[0;34m\u001b[0m\u001b[0m\n\u001b[1;32m      5\u001b[0m \u001b[0;34m\u001b[0m\u001b[0m\n",
      "\u001b[0;32m/var/folders/5z/xb_33d255mq_trf2qys6_r540000gn/T/ipykernel_22819/873048502.py\u001b[0m in \u001b[0;36m__init__\u001b[0;34m(self, a, b, c, d)\u001b[0m\n\u001b[1;32m      1\u001b[0m \u001b[0;32mclass\u001b[0m \u001b[0mPerson\u001b[0m\u001b[0;34m:\u001b[0m\u001b[0;34m\u001b[0m\u001b[0;34m\u001b[0m\u001b[0m\n\u001b[1;32m      2\u001b[0m     \u001b[0;32mdef\u001b[0m \u001b[0m__init__\u001b[0m\u001b[0;34m(\u001b[0m\u001b[0mself\u001b[0m\u001b[0;34m,\u001b[0m\u001b[0ma\u001b[0m\u001b[0;34m,\u001b[0m\u001b[0mb\u001b[0m\u001b[0;34m,\u001b[0m\u001b[0mc\u001b[0m\u001b[0;34m,\u001b[0m\u001b[0md\u001b[0m\u001b[0;34m)\u001b[0m\u001b[0;34m:\u001b[0m\u001b[0;34m\u001b[0m\u001b[0;34m\u001b[0m\u001b[0m\n\u001b[0;32m----> 3\u001b[0;31m         \u001b[0mself\u001b[0m\u001b[0;34m.\u001b[0m\u001b[0mname\u001b[0m \u001b[0;34m=\u001b[0m \u001b[0mname\u001b[0m\u001b[0;34m\u001b[0m\u001b[0;34m\u001b[0m\u001b[0m\n\u001b[0m\u001b[1;32m      4\u001b[0m         \u001b[0mself\u001b[0m\u001b[0;34m.\u001b[0m\u001b[0msurname\u001b[0m \u001b[0;34m=\u001b[0m \u001b[0msurname\u001b[0m\u001b[0;34m\u001b[0m\u001b[0;34m\u001b[0m\u001b[0m\n\u001b[1;32m      5\u001b[0m         \u001b[0mself\u001b[0m\u001b[0;34m.\u001b[0m\u001b[0mage\u001b[0m \u001b[0;34m=\u001b[0m \u001b[0mage\u001b[0m\u001b[0;34m\u001b[0m\u001b[0;34m\u001b[0m\u001b[0m\n",
      "\u001b[0;31mNameError\u001b[0m: name 'name' is not defined"
     ]
    }
   ],
   "source": [
    "p1=Person(\"Ali\", \"Veli\", 30, \"Ogretmen\")\n",
    "#classi boyle cagiriyorum\n",
    "#cagirinca init func calismaya basliyor\n",
    "print(p1.fullname())\n",
    "          \n",
    "          "
   ]
  },
  {
   "cell_type": "code",
   "execution_count": 41,
   "id": "96594823-a9c6-4a83-8481-adfc01ed8347",
   "metadata": {},
   "outputs": [],
   "source": [
    "class Person:\n",
    "    def __init__(self,a,b,c,d):\n",
    "        self.name = name\n",
    "        self.surname = surname\n",
    "        self.age = age\n",
    "        self.job =job\n",
    "        \n",
    "#instance attribute'lari name, surname, age, job idi\n",
    "\n",
    "    def fullname(self):\n",
    "        return f\"isim: {self.name} soyisim: {self.surname}\"\n",
    "    def info(self):\n",
    "        return f\"isim: {self.name} soyisim: {self.surname} age: {self.age}\""
   ]
  },
  {
   "cell_type": "code",
   "execution_count": 36,
   "id": "4e950ef6-141d-4dc0-ae3b-96cb79d692fd",
   "metadata": {},
   "outputs": [
    {
     "ename": "AttributeError",
     "evalue": "'Person' object has no attribute 'fullname'",
     "output_type": "error",
     "traceback": [
      "\u001b[0;31m---------------------------------------------------------------------------\u001b[0m",
      "\u001b[0;31mAttributeError\u001b[0m                            Traceback (most recent call last)",
      "\u001b[0;32m/var/folders/5z/xb_33d255mq_trf2qys6_r540000gn/T/ipykernel_22819/4224443562.py\u001b[0m in \u001b[0;36m<module>\u001b[0;34m\u001b[0m\n\u001b[0;32m----> 1\u001b[0;31m \u001b[0mp1\u001b[0m\u001b[0;34m.\u001b[0m\u001b[0mfullname\u001b[0m\u001b[0;34m(\u001b[0m\u001b[0;34m)\u001b[0m\u001b[0;34m\u001b[0m\u001b[0;34m\u001b[0m\u001b[0m\n\u001b[0m",
      "\u001b[0;31mAttributeError\u001b[0m: 'Person' object has no attribute 'fullname'"
     ]
    }
   ],
   "source": [
    "p1.fullname()"
   ]
  },
  {
   "cell_type": "code",
   "execution_count": 42,
   "id": "a55016b9-9ff7-46ad-b2f7-7eb1865ba623",
   "metadata": {},
   "outputs": [
    {
     "ename": "NameError",
     "evalue": "name 'name' is not defined",
     "output_type": "error",
     "traceback": [
      "\u001b[0;31m---------------------------------------------------------------------------\u001b[0m",
      "\u001b[0;31mNameError\u001b[0m                                 Traceback (most recent call last)",
      "\u001b[0;32m/var/folders/5z/xb_33d255mq_trf2qys6_r540000gn/T/ipykernel_22819/1080602665.py\u001b[0m in \u001b[0;36m<module>\u001b[0;34m\u001b[0m\n\u001b[0;32m----> 1\u001b[0;31m \u001b[0mp1\u001b[0m\u001b[0;34m=\u001b[0m\u001b[0mp1\u001b[0m\u001b[0;34m=\u001b[0m\u001b[0mPerson\u001b[0m\u001b[0;34m(\u001b[0m\u001b[0;34m\"Ali\"\u001b[0m\u001b[0;34m,\u001b[0m \u001b[0;34m\"Veli\"\u001b[0m\u001b[0;34m,\u001b[0m \u001b[0;36m30\u001b[0m\u001b[0;34m,\u001b[0m \u001b[0;34m\"Ogretmen\"\u001b[0m\u001b[0;34m)\u001b[0m\u001b[0;34m\u001b[0m\u001b[0;34m\u001b[0m\u001b[0m\n\u001b[0m",
      "\u001b[0;32m/var/folders/5z/xb_33d255mq_trf2qys6_r540000gn/T/ipykernel_22819/873048502.py\u001b[0m in \u001b[0;36m__init__\u001b[0;34m(self, a, b, c, d)\u001b[0m\n\u001b[1;32m      1\u001b[0m \u001b[0;32mclass\u001b[0m \u001b[0mPerson\u001b[0m\u001b[0;34m:\u001b[0m\u001b[0;34m\u001b[0m\u001b[0;34m\u001b[0m\u001b[0m\n\u001b[1;32m      2\u001b[0m     \u001b[0;32mdef\u001b[0m \u001b[0m__init__\u001b[0m\u001b[0;34m(\u001b[0m\u001b[0mself\u001b[0m\u001b[0;34m,\u001b[0m\u001b[0ma\u001b[0m\u001b[0;34m,\u001b[0m\u001b[0mb\u001b[0m\u001b[0;34m,\u001b[0m\u001b[0mc\u001b[0m\u001b[0;34m,\u001b[0m\u001b[0md\u001b[0m\u001b[0;34m)\u001b[0m\u001b[0;34m:\u001b[0m\u001b[0;34m\u001b[0m\u001b[0;34m\u001b[0m\u001b[0m\n\u001b[0;32m----> 3\u001b[0;31m         \u001b[0mself\u001b[0m\u001b[0;34m.\u001b[0m\u001b[0mname\u001b[0m \u001b[0;34m=\u001b[0m \u001b[0mname\u001b[0m\u001b[0;34m\u001b[0m\u001b[0;34m\u001b[0m\u001b[0m\n\u001b[0m\u001b[1;32m      4\u001b[0m         \u001b[0mself\u001b[0m\u001b[0;34m.\u001b[0m\u001b[0msurname\u001b[0m \u001b[0;34m=\u001b[0m \u001b[0msurname\u001b[0m\u001b[0;34m\u001b[0m\u001b[0;34m\u001b[0m\u001b[0m\n\u001b[1;32m      5\u001b[0m         \u001b[0mself\u001b[0m\u001b[0;34m.\u001b[0m\u001b[0mage\u001b[0m \u001b[0;34m=\u001b[0m \u001b[0mage\u001b[0m\u001b[0;34m\u001b[0m\u001b[0;34m\u001b[0m\u001b[0m\n",
      "\u001b[0;31mNameError\u001b[0m: name 'name' is not defined"
     ]
    }
   ],
   "source": [
    "p1=p1=Person(\"Ali\", \"Veli\", 30, \"Ogretmen\")"
   ]
  },
  {
   "cell_type": "markdown",
   "id": "a6e698dd-f555-4f1f-8973-af5b5cc37c0d",
   "metadata": {},
   "source": [
    "## Class Attribute & Instance Attribute"
   ]
  },
  {
   "cell_type": "code",
   "execution_count": 80,
   "id": "aba87325-332c-4f4a-a749-c8ba43d3abf2",
   "metadata": {},
   "outputs": [],
   "source": [
    "class Employee:\n",
    "    \"\"\"Employee Class: name,surname,pay\"\"\"\n",
    "    raise_amount = 1.2 # class attribute\n",
    "    \n",
    "    def __init__(self,name,surname,pay):\n",
    "        self.name = name # instance attribute\n",
    "        self.surname = surname\n",
    "        self.pay = pay\n",
    "        \n",
    "    def fullname(self):\n",
    "        print(self.name,self.surname)\n",
    "        \n",
    "    def pay_raise(self): # instance method\n",
    "        self.pay = int(self.pay * Employee.raise_amount) # now even if we give a raise amount to\n",
    "        # instances like e3, it'll always get the one under the Employee\n",
    "        return self.pay\n",
    "        "
   ]
  },
  {
   "cell_type": "code",
   "execution_count": 81,
   "id": "47ddd222-cf41-4425-b536-945df707da46",
   "metadata": {},
   "outputs": [],
   "source": [
    "e1=Employee(\"Ahmet\", \"Yilmaz\", 5000)\n",
    "e2=Employee(\"Mehmet\", \"Erdemir\", 5000)\n",
    "#e1 ve e2'yi burda olusturdum"
   ]
  },
  {
   "cell_type": "code",
   "execution_count": 82,
   "id": "7900d11f-4e7a-4b95-a059-d1ef1ba02597",
   "metadata": {},
   "outputs": [
    {
     "data": {
      "text/plain": [
       "{'name': 'Ahmet', 'surname': 'Yilmaz', 'pay': 5000}"
      ]
     },
     "execution_count": 82,
     "metadata": {},
     "output_type": "execute_result"
    }
   ],
   "source": [
    "e1.__dict__\n",
    "#e1 instance'inin name spaceini donduruyor"
   ]
  },
  {
   "cell_type": "code",
   "execution_count": 83,
   "id": "bc159ab7-1fa3-4793-9ade-edb66f524977",
   "metadata": {},
   "outputs": [
    {
     "data": {
      "text/plain": [
       "{'name': 'Mehmet', 'surname': 'Erdemir', 'pay': 5000}"
      ]
     },
     "execution_count": 83,
     "metadata": {},
     "output_type": "execute_result"
    }
   ],
   "source": [
    "e2.__dict__"
   ]
  },
  {
   "cell_type": "code",
   "execution_count": 84,
   "id": "3da191b4-3dc2-45c8-9647-db388c55ee90",
   "metadata": {},
   "outputs": [
    {
     "name": "stdout",
     "output_type": "stream",
     "text": [
      "Ahmet Yilmaz\n"
     ]
    }
   ],
   "source": [
    "e1.fullname()"
   ]
  },
  {
   "cell_type": "code",
   "execution_count": 85,
   "id": "934d070a-ce3d-4009-86d8-968a2c782da8",
   "metadata": {},
   "outputs": [
    {
     "data": {
      "text/plain": [
       "6000"
      ]
     },
     "execution_count": 85,
     "metadata": {},
     "output_type": "execute_result"
    }
   ],
   "source": [
    "e1.pay_raise()"
   ]
  },
  {
   "cell_type": "code",
   "execution_count": null,
   "id": "220c58d5-a404-4bcd-ad2f-b5977ec7cc44",
   "metadata": {},
   "outputs": [],
   "source": [
    "#normalde instance'lar kisiye ozeldi yazdiklarim name age gibi.\n",
    "#ama raise_amount dedigim maas artisi kisye ozel olmasin\n",
    "#herkese ayni oranda olsun istiyorum\n",
    "#bu durumda napicaz?\n",
    "#class'in icine matbu formuna ekleriz bu durumda raise_amount'u\n",
    "#yani class attribite olarak yaziyoruz raise_amount= 1.2 olarak\n",
    "#self cunku kisiye ozel, ona ekleyemeyiz.\n"
   ]
  },
  {
   "cell_type": "code",
   "execution_count": 86,
   "id": "125c54f1-1117-4343-b38c-876238145e58",
   "metadata": {},
   "outputs": [
    {
     "data": {
      "text/plain": [
       "1.2"
      ]
     },
     "execution_count": 86,
     "metadata": {},
     "output_type": "execute_result"
    }
   ],
   "source": [
    "Employee.raise_amount\n"
   ]
  },
  {
   "cell_type": "code",
   "execution_count": 87,
   "id": "c2d4e675-a507-486c-bedd-fa674ca88a8a",
   "metadata": {},
   "outputs": [
    {
     "name": "stdout",
     "output_type": "stream",
     "text": [
      "Ahmet Yilmaz\n"
     ]
    }
   ],
   "source": [
    "Employee.fullname(e1)\n",
    "#self instance'in kendisi cunku\n",
    "#fullname bir instance'dan olusur\n",
    "#ama yaygin kullanim, e1.fullname() olarak cagrilir"
   ]
  },
  {
   "cell_type": "code",
   "execution_count": 88,
   "id": "2248bc94-8597-40aa-a595-ea5dddc57594",
   "metadata": {},
   "outputs": [
    {
     "name": "stdout",
     "output_type": "stream",
     "text": [
      "Ahmet Yilmaz\n"
     ]
    }
   ],
   "source": [
    "e1.fullname()\n"
   ]
  },
  {
   "cell_type": "code",
   "execution_count": 89,
   "id": "bf343092-c149-4659-954b-e6a2b1f96f6d",
   "metadata": {},
   "outputs": [
    {
     "data": {
      "text/plain": [
       "1.2"
      ]
     },
     "execution_count": 89,
     "metadata": {},
     "output_type": "execute_result"
    }
   ],
   "source": [
    "e1.raise_amount"
   ]
  },
  {
   "cell_type": "code",
   "execution_count": 90,
   "id": "bea01a9d-35c0-4b4a-ade0-879fe2fe28b2",
   "metadata": {},
   "outputs": [
    {
     "data": {
      "text/plain": [
       "{'name': 'Ahmet', 'surname': 'Yilmaz', 'pay': 6000}"
      ]
     },
     "execution_count": 90,
     "metadata": {},
     "output_type": "execute_result"
    }
   ],
   "source": [
    "e1.__dict__"
   ]
  },
  {
   "cell_type": "code",
   "execution_count": 91,
   "id": "45fba518-e72f-4813-821c-f442a337088f",
   "metadata": {},
   "outputs": [
    {
     "data": {
      "text/plain": [
       "7200"
      ]
     },
     "execution_count": 91,
     "metadata": {},
     "output_type": "execute_result"
    }
   ],
   "source": [
    "e1.pay_raise()"
   ]
  },
  {
   "cell_type": "code",
   "execution_count": 92,
   "id": "8d53cfe1-2b7f-4135-ae87-e7cdb14a337c",
   "metadata": {},
   "outputs": [],
   "source": [
    "e2=Employee(\"Mehmet\", \"Demir\", 5000)"
   ]
  },
  {
   "cell_type": "code",
   "execution_count": 93,
   "id": "59488b0a-23a3-470c-8dd4-e88472066bd7",
   "metadata": {},
   "outputs": [
    {
     "data": {
      "text/plain": [
       "5000"
      ]
     },
     "execution_count": 93,
     "metadata": {},
     "output_type": "execute_result"
    }
   ],
   "source": [
    "e2.pay"
   ]
  },
  {
   "cell_type": "code",
   "execution_count": 94,
   "id": "78db36d9-20a2-44b5-8ba9-3311f96efd7b",
   "metadata": {},
   "outputs": [
    {
     "data": {
      "text/plain": [
       "{'name': 'Ahmet', 'surname': 'Yilmaz', 'pay': 7200}"
      ]
     },
     "execution_count": 94,
     "metadata": {},
     "output_type": "execute_result"
    }
   ],
   "source": [
    "e1.__dict__"
   ]
  },
  {
   "cell_type": "code",
   "execution_count": 95,
   "id": "f66d7c3e-9762-47ea-90ff-450d83d11c41",
   "metadata": {},
   "outputs": [
    {
     "data": {
      "text/plain": [
       "{'name': 'Mehmet', 'surname': 'Demir', 'pay': 5000}"
      ]
     },
     "execution_count": 95,
     "metadata": {},
     "output_type": "execute_result"
    }
   ],
   "source": [
    "e2.__dict__"
   ]
  },
  {
   "cell_type": "code",
   "execution_count": 96,
   "id": "3163ac83-b23a-4123-a4f5-0e55d0feb7f6",
   "metadata": {},
   "outputs": [],
   "source": [
    "e3= Employee(\"Veli\", \"Erdemir\", 5000)"
   ]
  },
  {
   "cell_type": "code",
   "execution_count": 97,
   "id": "b45ffdc1-118c-4292-9d76-33cf117b1d88",
   "metadata": {},
   "outputs": [
    {
     "data": {
      "text/plain": [
       "(7200, 5000, 5000)"
      ]
     },
     "execution_count": 97,
     "metadata": {},
     "output_type": "execute_result"
    }
   ],
   "source": [
    "e1.pay, e2.pay, e3.pay"
   ]
  },
  {
   "cell_type": "code",
   "execution_count": 98,
   "id": "8bcc82c7-0c27-46fd-bcad-0c5c9092538f",
   "metadata": {},
   "outputs": [
    {
     "data": {
      "text/plain": [
       "6000"
      ]
     },
     "execution_count": 98,
     "metadata": {},
     "output_type": "execute_result"
    }
   ],
   "source": [
    "e2.pay_raise()"
   ]
  },
  {
   "cell_type": "code",
   "execution_count": 99,
   "id": "5a5a2c5b-b3f5-4c35-b999-2e1593b9b258",
   "metadata": {},
   "outputs": [
    {
     "data": {
      "text/plain": [
       "6000"
      ]
     },
     "execution_count": 99,
     "metadata": {},
     "output_type": "execute_result"
    }
   ],
   "source": [
    "e2.pay"
   ]
  },
  {
   "cell_type": "code",
   "execution_count": 100,
   "id": "89b43e06-369b-4fdf-9bb3-6aed76b57cdd",
   "metadata": {},
   "outputs": [],
   "source": [
    "e3.raise_amount=2"
   ]
  },
  {
   "cell_type": "code",
   "execution_count": 101,
   "id": "ff911503-bf36-47c5-9efd-1f8d86427e06",
   "metadata": {},
   "outputs": [
    {
     "data": {
      "text/plain": [
       "<__main__.MyClass at 0x7fcb252ee5e0>"
      ]
     },
     "execution_count": 101,
     "metadata": {},
     "output_type": "execute_result"
    }
   ],
   "source": [
    "class MyClass:\n",
    "    pass\n",
    "\n",
    "cls=MyClass()\n",
    "cls"
   ]
  },
  {
   "cell_type": "code",
   "execution_count": 104,
   "id": "9ce678b4-05a9-4ef7-9660-c59ae4fad821",
   "metadata": {},
   "outputs": [
    {
     "data": {
      "text/plain": [
       "6000"
      ]
     },
     "execution_count": 104,
     "metadata": {},
     "output_type": "execute_result"
    }
   ],
   "source": [
    "e3.pay_raise()"
   ]
  },
  {
   "cell_type": "code",
   "execution_count": 75,
   "id": "1afaf3b5-67d7-4f1b-986d-d0b06cdfa068",
   "metadata": {},
   "outputs": [
    {
     "data": {
      "text/plain": [
       "{'name': 'Veli', 'surname': 'Erdemir', 'pay': 5000}"
      ]
     },
     "execution_count": 75,
     "metadata": {},
     "output_type": "execute_result"
    }
   ],
   "source": [
    "e3.__dict__"
   ]
  },
  {
   "cell_type": "code",
   "execution_count": 76,
   "id": "fbef9631-500b-4599-9bad-7dbbbacd4d01",
   "metadata": {},
   "outputs": [
    {
     "data": {
      "text/plain": [
       "{'name': 'Mehmet', 'surname': 'Demir', 'pay': 6000}"
      ]
     },
     "execution_count": 76,
     "metadata": {},
     "output_type": "execute_result"
    }
   ],
   "source": [
    "e2.__dict__"
   ]
  },
  {
   "cell_type": "code",
   "execution_count": 77,
   "id": "6a6ada07-a80d-4ab6-8a15-7a7cf2ac2e87",
   "metadata": {},
   "outputs": [
    {
     "data": {
      "text/plain": [
       "{'name': 'Ahmet', 'surname': 'Yilmaz', 'pay': 5000}"
      ]
     },
     "execution_count": 77,
     "metadata": {},
     "output_type": "execute_result"
    }
   ],
   "source": [
    "e1.__dict__"
   ]
  },
  {
   "cell_type": "code",
   "execution_count": null,
   "id": "c42eea9f-a978-4ab4-a2c8-823d2d800570",
   "metadata": {},
   "outputs": [],
   "source": [
    "#e3'e ozel 2 katina kadar zam yapmak istiyorum\n",
    "#yani ksiye ozel zam olsun istiyorum\n",
    "#instance icinde kendine ozel bir sey bulamayinca,\n",
    "#artis miktari icin class attribute'a bakiyor onu kullaniyordum\n",
    "#ama ben burda kisiye ozel olsun istiyorum e3 icin\n",
    "#e3.raise_amount=2 diye tanimladim\n",
    "#boylelikle ksiye ozel maas zammi tanimlamis oldum e3 icin\n",
    "#boylece e3 instance'ina bir attribute eklemis oldum"
   ]
  },
  {
   "cell_type": "code",
   "execution_count": 78,
   "id": "57e0fe22-4fc1-4104-9b3b-c36eefd50230",
   "metadata": {},
   "outputs": [
    {
     "data": {
      "text/plain": [
       "1.2"
      ]
     },
     "execution_count": 78,
     "metadata": {},
     "output_type": "execute_result"
    }
   ],
   "source": [
    "Employee.raise_amount"
   ]
  },
  {
   "cell_type": "code",
   "execution_count": 103,
   "id": "baae1e92-2d19-4f11-a775-7e0f6febd593",
   "metadata": {},
   "outputs": [
    {
     "data": {
      "text/plain": [
       "1.2"
      ]
     },
     "execution_count": 103,
     "metadata": {},
     "output_type": "execute_result"
    }
   ],
   "source": [
    "e1.raise_amount"
   ]
  },
  {
   "cell_type": "code",
   "execution_count": 105,
   "id": "0fe3418d-90ec-47c8-8e70-febf1121d25b",
   "metadata": {},
   "outputs": [],
   "source": [
    "class Employee:\n",
    "    \"\"\"Employee Class: name,surname,pay\"\"\"\n",
    "    employee_count = 0\n",
    "    def __init__(self,name,surname,pay):\n",
    "        self.name = name # instance attribute\n",
    "        self.surname = surname\n",
    "        self.pay = pay\n",
    "        Employee.employee_count += 1"
   ]
  },
  {
   "cell_type": "code",
   "execution_count": 106,
   "id": "65f08cb7-019a-4fab-a04d-6a01aa53ba55",
   "metadata": {},
   "outputs": [
    {
     "data": {
      "text/plain": [
       "1"
      ]
     },
     "execution_count": 106,
     "metadata": {},
     "output_type": "execute_result"
    }
   ],
   "source": [
    "e1 = Employee(\"Ali\",\"Veli\",5000)\n",
    "Employee.employee_count\n"
   ]
  },
  {
   "cell_type": "code",
   "execution_count": 107,
   "id": "43f899b2-fd1e-4987-9673-fba1eb61927c",
   "metadata": {},
   "outputs": [
    {
     "data": {
      "text/plain": [
       "2"
      ]
     },
     "execution_count": 107,
     "metadata": {},
     "output_type": "execute_result"
    }
   ],
   "source": [
    "e2 = Employee(\"Niyazi\",\"Demir\",5000)\n",
    "Employee.employee_count"
   ]
  },
  {
   "cell_type": "code",
   "execution_count": null,
   "id": "e1110846-b28e-4927-9721-6d0625bdab3b",
   "metadata": {},
   "outputs": [],
   "source": []
  },
  {
   "cell_type": "markdown",
   "id": "2fe529f8-2e42-4cd0-ab99-6f4288299ed8",
   "metadata": {},
   "source": [
    "## Class Method & Instance Method"
   ]
  },
  {
   "cell_type": "code",
   "execution_count": 111,
   "id": "4e2c39b6-fcff-4f3f-8cf1-c23636caef2f",
   "metadata": {},
   "outputs": [],
   "source": [
    "class Person:\n",
    "    \n",
    "    employee_count=0 #class attribute\n",
    "    \n",
    "    def __init__(self, name, surname, age):\n",
    "        self.name=name\n",
    "        self.surname=surname\n",
    "        self.age=age\n",
    "        \n",
    "    def fullname(self): #instance method\n",
    "        return f\"{self.name} {self.surname}\"\n",
    "    \n",
    "    def info(self): #instance method\n",
    "        return f\"name: {self.name} surname: {self.surname} nage: {self.age}\n",
    "    \n",
    "    @classmethod #class method\n",
    "    def number_of_employee(cls):\n",
    "        return f\"Number of employee: {cls.employee_count}\""
   ]
  },
  {
   "cell_type": "code",
   "execution_count": null,
   "id": "9714ac5e-9362-4b84-b4db-8ad5c55fc68a",
   "metadata": {},
   "outputs": [],
   "source": [
    "p1=Person(\"Ahmet\", \"Yilmaz\", 18)\n"
   ]
  },
  {
   "cell_type": "code",
   "execution_count": 108,
   "id": "4864af8f-939b-4f59-b76e-f844bb8dc411",
   "metadata": {},
   "outputs": [
    {
     "ename": "AttributeError",
     "evalue": "'Person' object has no attribute 'info'",
     "output_type": "error",
     "traceback": [
      "\u001b[0;31m---------------------------------------------------------------------------\u001b[0m",
      "\u001b[0;31mAttributeError\u001b[0m                            Traceback (most recent call last)",
      "\u001b[0;32m/var/folders/5z/xb_33d255mq_trf2qys6_r540000gn/T/ipykernel_22819/2861763687.py\u001b[0m in \u001b[0;36m<module>\u001b[0;34m\u001b[0m\n\u001b[0;32m----> 1\u001b[0;31m \u001b[0mp1\u001b[0m\u001b[0;34m.\u001b[0m\u001b[0minfo\u001b[0m\u001b[0;34m(\u001b[0m\u001b[0;34m)\u001b[0m\u001b[0;34m\u001b[0m\u001b[0;34m\u001b[0m\u001b[0m\n\u001b[0m",
      "\u001b[0;31mAttributeError\u001b[0m: 'Person' object has no attribute 'info'"
     ]
    }
   ],
   "source": [
    "p1.info()"
   ]
  },
  {
   "cell_type": "code",
   "execution_count": 109,
   "id": "f09cae2d-81ff-4ebe-8048-e026753f4f29",
   "metadata": {},
   "outputs": [
    {
     "ename": "TypeError",
     "evalue": "info() missing 1 required positional argument: 'self'",
     "output_type": "error",
     "traceback": [
      "\u001b[0;31m---------------------------------------------------------------------------\u001b[0m",
      "\u001b[0;31mTypeError\u001b[0m                                 Traceback (most recent call last)",
      "\u001b[0;32m/var/folders/5z/xb_33d255mq_trf2qys6_r540000gn/T/ipykernel_22819/2836117968.py\u001b[0m in \u001b[0;36m<module>\u001b[0;34m\u001b[0m\n\u001b[0;32m----> 1\u001b[0;31m \u001b[0mPerson\u001b[0m\u001b[0;34m.\u001b[0m\u001b[0minfo\u001b[0m\u001b[0;34m(\u001b[0m\u001b[0;34m)\u001b[0m\u001b[0;34m\u001b[0m\u001b[0;34m\u001b[0m\u001b[0m\n\u001b[0m",
      "\u001b[0;31mTypeError\u001b[0m: info() missing 1 required positional argument: 'self'"
     ]
    }
   ],
   "source": [
    "Person.info()"
   ]
  },
  {
   "cell_type": "code",
   "execution_count": null,
   "id": "2b801903-a08c-4926-83ef-35cab9ed3915",
   "metadata": {},
   "outputs": [],
   "source": [
    "person.info(p1) # bu kullanim yaygin degil"
   ]
  },
  {
   "cell_type": "code",
   "execution_count": null,
   "id": "1c775f00-79c4-419f-809c-7c7d23603bf8",
   "metadata": {},
   "outputs": [],
   "source": [
    "# class method tanımlayalım\n",
    "class Person:\n",
    "        employee_count = 0 # class attribute\n",
    "        \n",
    "        def __init__(self, name, surname, age):\n",
    "            self.name = name\n",
    "            self.surname = surname\n",
    "            self.age = age\n",
    "            Person.employee_count += 1 # class variable, instance oluşturulduğunda artacak, # self kullanmadık. Çünkü class variable\n",
    "            \n",
    "        def fullname(self): # instance method\n",
    "            return f\"{self.name} {self.surname}\"\n",
    "        \n",
    "        def info(self): # instance method\n",
    "            return f\"name: {self.name} surname: {self.surname} nage: {self.age}\"\n",
    "        \n",
    "        \n",
    "        \n",
    "        @classmethod # class method\n",
    "        def number_of_employee(cls):\n",
    "            return f\"Number of employee: {cls.employee_count}\"\n",
    "        \n",
    " #        "
   ]
  },
  {
   "cell_type": "code",
   "execution_count": 114,
   "id": "aa102eec-7422-400f-be22-29efbf8c050e",
   "metadata": {},
   "outputs": [
    {
     "data": {
      "text/plain": [
       "0"
      ]
     },
     "execution_count": 114,
     "metadata": {},
     "output_type": "execute_result"
    }
   ],
   "source": [
    "Person.employee_count"
   ]
  },
  {
   "cell_type": "code",
   "execution_count": 115,
   "id": "7bb6231a-090a-42cc-b186-261a888155d8",
   "metadata": {},
   "outputs": [],
   "source": [
    "p1=Person(\"Ahmet\", \"Yilmaz\", 18)\n",
    "p2=Person(\"Ayse\", \"Sahin\", 30)"
   ]
  },
  {
   "cell_type": "code",
   "execution_count": 116,
   "id": "7d3b06a8-2cea-4fcc-8d02-7366d9ecc8e8",
   "metadata": {},
   "outputs": [
    {
     "data": {
      "text/plain": [
       "'Number of employee: 2'"
      ]
     },
     "execution_count": 116,
     "metadata": {},
     "output_type": "execute_result"
    }
   ],
   "source": [
    "Person.number_of_employee()"
   ]
  },
  {
   "cell_type": "code",
   "execution_count": 117,
   "id": "6770b289-99ea-4005-a7fb-43ca2fb8c0dd",
   "metadata": {},
   "outputs": [
    {
     "data": {
      "text/plain": [
       "'Number of employee: 2'"
      ]
     },
     "execution_count": 117,
     "metadata": {},
     "output_type": "execute_result"
    }
   ],
   "source": [
    "Person.number_of_employee()"
   ]
  },
  {
   "cell_type": "code",
   "execution_count": 124,
   "id": "451b6499-95bc-428a-96df-d0c15bec70ce",
   "metadata": {},
   "outputs": [],
   "source": [
    "# Şimdi bunu class method kullanarak yapalım.\n",
    "class Person:\n",
    "    def __init__(self, name, surname, age):\n",
    "        self.name = name\n",
    "        self.surname = surname\n",
    "        self.age = age\n",
    "    \n",
    "    @classmethod\n",
    "    def from_string(cls, string):\n",
    "        name, surname, age = string.split(\"-\")\n",
    "        return cls(name, surname, age)"
   ]
  },
  {
   "cell_type": "code",
   "execution_count": 125,
   "id": "fa0e087d-35c1-4b20-96df-fd6012ca1cac",
   "metadata": {},
   "outputs": [],
   "source": [
    "p1=Person.from_string(\"Ahmet-Yilmaz-25\")"
   ]
  },
  {
   "cell_type": "code",
   "execution_count": 121,
   "id": "3d4cf196-5395-4dd9-981f-7fe97c4f2bda",
   "metadata": {},
   "outputs": [
    {
     "data": {
      "text/plain": [
       "'Ahmet'"
      ]
     },
     "execution_count": 121,
     "metadata": {},
     "output_type": "execute_result"
    }
   ],
   "source": [
    "p1.name"
   ]
  },
  {
   "cell_type": "code",
   "execution_count": 122,
   "id": "8747f6d4-bd2e-49f1-b7ad-6d4963d5c8d1",
   "metadata": {},
   "outputs": [],
   "source": [
    "p1=Person(\"Ahmet\", \"Yilmaz\", 25)"
   ]
  },
  {
   "cell_type": "code",
   "execution_count": 123,
   "id": "d241e384-5e43-44ca-b6b0-4d086a8904b1",
   "metadata": {},
   "outputs": [
    {
     "data": {
      "text/plain": [
       "{'name': 'Ahmet', 'surname': 'Yilmaz', 'age': 25}"
      ]
     },
     "execution_count": 123,
     "metadata": {},
     "output_type": "execute_result"
    }
   ],
   "source": [
    "p1.__dict__"
   ]
  },
  {
   "cell_type": "code",
   "execution_count": null,
   "id": "b180ca10-72fa-4882-8b2c-4d7c1d1ed6e8",
   "metadata": {},
   "outputs": [],
   "source": [
    "#class methodlar instance olusturunca devreye giriyor\n",
    "#func alir degistirir yine func donduru decoratorlar\n",
    "#method icin decorator yazarak\n",
    "#@classmethod gibi\n",
    "#..."
   ]
  }
 ],
 "metadata": {
  "kernelspec": {
   "display_name": "Python 3 (ipykernel)",
   "language": "python",
   "name": "python3"
  },
  "language_info": {
   "codemirror_mode": {
    "name": "ipython",
    "version": 3
   },
   "file_extension": ".py",
   "mimetype": "text/x-python",
   "name": "python",
   "nbconvert_exporter": "python",
   "pygments_lexer": "ipython3",
   "version": "3.9.13"
  }
 },
 "nbformat": 4,
 "nbformat_minor": 5
}
