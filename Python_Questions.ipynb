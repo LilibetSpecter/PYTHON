{
 "cells": [
  {
   "cell_type": "code",
   "execution_count": 3,
   "metadata": {},
   "outputs": [
    {
     "name": "stdout",
     "output_type": "stream",
     "text": [
      "[153, 370, 370, 371, 407, 1634, 6688, 8208, 9474]\n"
     ]
    }
   ],
   "source": [
    "## 10 ile 10.000 arasındaki tüm armstrong sayılarını bulan bir kod yazalım\n",
    "# not: Armstrong Sayı Nedir ?\n",
    "# n basamaklı bir sayının basamaklarındaki rakamların n'inci üstlerinin toplamı, sayının kendisine eşitse,\n",
    "# böyle sayılara Armstrong sayı denir.\n",
    "# Örneğin 407 sayısı. (4^3)+ (0^3)+(7^3) = 64+0+343 = 407 sonucunu verir.\n",
    "# Bu da 407 sayısının armstrong bir sayı olduğunu gösterir.\n",
    "\n",
    "\n",
    "armstrong = []\n",
    "\n",
    "for i in range(10,10001):\n",
    "    f = len(str(i))\n",
    "    \n",
    "    toplamı = 0\n",
    "\n",
    "    for k in str(i):\n",
    "        toplamı += int(k)**f\n",
    "        if toplamı==int(i):\n",
    "            armstrong.append(i)\n",
    "print(armstrong)"
   ]
  },
  {
   "cell_type": "code",
   "execution_count": 21,
   "metadata": {},
   "outputs": [
    {
     "data": {
      "text/plain": [
       "False"
      ]
     },
     "execution_count": 21,
     "metadata": {},
     "output_type": "execute_result"
    }
   ],
   "source": [
    "##prime numbers bulmak icin yazdigimiz bir code\n",
    "\n",
    "def my_prime(x):\n",
    "    if x==1:\n",
    "        return False\n",
    "    elif x==2:\n",
    "        return True\n",
    "    else:\n",
    "        for i in range(2,x):\n",
    "            if x%i==0:\n",
    "                return False\n",
    "            \n",
    "        return True    \n",
    "    \n",
    "#burda if 'in altina else yazip da True dersem, 9 27 gibi sayilarda  hata veriyor   \n",
    "my_prime(11)\n",
    "my_prime(10)\n",
    "my_prime(100)\n",
    "my_prime(7)\n",
    "my_prime(9)\n",
    "my_prime(18)\n",
    "my_prime(27)"
   ]
  },
  {
   "cell_type": "code",
   "execution_count": null,
   "metadata": {},
   "outputs": [],
   "source": []
  }
 ],
 "metadata": {
  "kernelspec": {
   "display_name": "Python 3",
   "language": "python",
   "name": "python3"
  },
  "language_info": {
   "codemirror_mode": {
    "name": "ipython",
    "version": 3
   },
   "file_extension": ".py",
   "mimetype": "text/x-python",
   "name": "python",
   "nbconvert_exporter": "python",
   "pygments_lexer": "ipython3",
   "version": "3.11.1"
  },
  "orig_nbformat": 4,
  "vscode": {
   "interpreter": {
    "hash": "aee8b7b246df8f9039afb4144a1f6fd8d2ca17a180786b69acc140d282b71a49"
   }
  }
 },
 "nbformat": 4,
 "nbformat_minor": 2
}
